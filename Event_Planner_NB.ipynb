{
 "cells": [
  {
   "cell_type": "markdown",
   "metadata": {},
   "source": [
    "### Recommender system: Day in the city"
   ]
  },
  {
   "cell_type": "code",
   "execution_count": 2,
   "metadata": {
    "scrolled": true
   },
   "outputs": [],
   "source": [
    "import pandas as pd\n",
    "import numpy as np\n",
    "import matplotlib.pyplot as plt\n",
    "import sklearn\n",
    "from sklearn.cluster import KMeans, AgglomerativeClustering\n",
    "from sklearn.mixture import GaussianMixture\n",
    "from sklearn.metrics import silhouette_score, pairwise_distances, calinski_harabaz_score\n",
    "from sklearn.neighbors import DistanceMetric\n",
    "import ast\n",
    "import requests\n",
    "import time\n",
    "%matplotlib inline"
   ]
  },
  {
   "cell_type": "markdown",
   "metadata": {},
   "source": [
    "### 2. EDA -  business.json"
   ]
  },
  {
   "cell_type": "code",
   "execution_count": 3,
   "metadata": {},
   "outputs": [
    {
     "data": {
      "text/html": [
       "<div>\n",
       "<style scoped>\n",
       "    .dataframe tbody tr th:only-of-type {\n",
       "        vertical-align: middle;\n",
       "    }\n",
       "\n",
       "    .dataframe tbody tr th {\n",
       "        vertical-align: top;\n",
       "    }\n",
       "\n",
       "    .dataframe thead th {\n",
       "        text-align: right;\n",
       "    }\n",
       "</style>\n",
       "<table border=\"1\" class=\"dataframe\">\n",
       "  <thead>\n",
       "    <tr style=\"text-align: right;\">\n",
       "      <th></th>\n",
       "      <th>is_open</th>\n",
       "      <th>latitude</th>\n",
       "      <th>longitude</th>\n",
       "      <th>review_count</th>\n",
       "      <th>stars</th>\n",
       "    </tr>\n",
       "  </thead>\n",
       "  <tbody>\n",
       "    <tr>\n",
       "      <th>count</th>\n",
       "      <td>192609.000000</td>\n",
       "      <td>192609.000000</td>\n",
       "      <td>192609.000000</td>\n",
       "      <td>192609.000000</td>\n",
       "      <td>192609.000000</td>\n",
       "    </tr>\n",
       "    <tr>\n",
       "      <th>mean</th>\n",
       "      <td>0.823040</td>\n",
       "      <td>38.541803</td>\n",
       "      <td>-97.594785</td>\n",
       "      <td>33.538962</td>\n",
       "      <td>3.585627</td>\n",
       "    </tr>\n",
       "    <tr>\n",
       "      <th>std</th>\n",
       "      <td>0.381635</td>\n",
       "      <td>4.941964</td>\n",
       "      <td>16.697725</td>\n",
       "      <td>110.135224</td>\n",
       "      <td>1.018458</td>\n",
       "    </tr>\n",
       "    <tr>\n",
       "      <th>min</th>\n",
       "      <td>0.000000</td>\n",
       "      <td>33.204642</td>\n",
       "      <td>-115.493471</td>\n",
       "      <td>3.000000</td>\n",
       "      <td>1.000000</td>\n",
       "    </tr>\n",
       "    <tr>\n",
       "      <th>25%</th>\n",
       "      <td>1.000000</td>\n",
       "      <td>33.637408</td>\n",
       "      <td>-112.274677</td>\n",
       "      <td>4.000000</td>\n",
       "      <td>3.000000</td>\n",
       "    </tr>\n",
       "    <tr>\n",
       "      <th>50%</th>\n",
       "      <td>1.000000</td>\n",
       "      <td>36.144815</td>\n",
       "      <td>-111.759323</td>\n",
       "      <td>9.000000</td>\n",
       "      <td>3.500000</td>\n",
       "    </tr>\n",
       "    <tr>\n",
       "      <th>75%</th>\n",
       "      <td>1.000000</td>\n",
       "      <td>43.602989</td>\n",
       "      <td>-79.983614</td>\n",
       "      <td>25.000000</td>\n",
       "      <td>4.500000</td>\n",
       "    </tr>\n",
       "    <tr>\n",
       "      <th>max</th>\n",
       "      <td>1.000000</td>\n",
       "      <td>51.299943</td>\n",
       "      <td>-72.911982</td>\n",
       "      <td>8348.000000</td>\n",
       "      <td>5.000000</td>\n",
       "    </tr>\n",
       "  </tbody>\n",
       "</table>\n",
       "</div>"
      ],
      "text/plain": [
       "             is_open       latitude      longitude   review_count  \\\n",
       "count  192609.000000  192609.000000  192609.000000  192609.000000   \n",
       "mean        0.823040      38.541803     -97.594785      33.538962   \n",
       "std         0.381635       4.941964      16.697725     110.135224   \n",
       "min         0.000000      33.204642    -115.493471       3.000000   \n",
       "25%         1.000000      33.637408    -112.274677       4.000000   \n",
       "50%         1.000000      36.144815    -111.759323       9.000000   \n",
       "75%         1.000000      43.602989     -79.983614      25.000000   \n",
       "max         1.000000      51.299943     -72.911982    8348.000000   \n",
       "\n",
       "               stars  \n",
       "count  192609.000000  \n",
       "mean        3.585627  \n",
       "std         1.018458  \n",
       "min         1.000000  \n",
       "25%         3.000000  \n",
       "50%         3.500000  \n",
       "75%         4.500000  \n",
       "max         5.000000  "
      ]
     },
     "execution_count": 3,
     "metadata": {},
     "output_type": "execute_result"
    }
   ],
   "source": [
    "# reading in file\n",
    "df = pd.read_json('yelp_dataset/business.json', lines = True) \n",
    "df.describe()"
   ]
  },
  {
   "cell_type": "code",
   "execution_count": 4,
   "metadata": {},
   "outputs": [],
   "source": [
    "# Dropping Canadian cities\n",
    "\n",
    "df.postal_code = df.postal_code.apply(lambda x: x if len(x) == 5 else np.nan)"
   ]
  },
  {
   "cell_type": "code",
   "execution_count": 5,
   "metadata": {},
   "outputs": [],
   "source": [
    "# Dropping Null Attributes column\n",
    "df = df[~df['postal_code'].isnull()]  \n",
    "df = df[~df['attributes'].isnull()]    "
   ]
  },
  {
   "cell_type": "code",
   "execution_count": 6,
   "metadata": {
    "scrolled": true
   },
   "outputs": [
    {
     "name": "stdout",
     "output_type": "stream",
     "text": [
      "Cities to keep: ['Las Vegas', 'Phoenix', 'Charlotte', 'Scottsdale', 'Pittsburgh', 'Mesa', 'Henderson', 'Tempe', 'Chandler', 'Madison', 'Cleveland', 'Glendale', 'Gilbert', 'Peoria', 'North Las Vegas', 'Champaign', 'Surprise', 'Concord', 'Goodyear', 'Matthews', 'Avondale', 'Huntersville', 'Fort Mill']\n"
     ]
    },
    {
     "data": {
      "text/html": [
       "<div>\n",
       "<style scoped>\n",
       "    .dataframe tbody tr th:only-of-type {\n",
       "        vertical-align: middle;\n",
       "    }\n",
       "\n",
       "    .dataframe tbody tr th {\n",
       "        vertical-align: top;\n",
       "    }\n",
       "\n",
       "    .dataframe thead th {\n",
       "        text-align: right;\n",
       "    }\n",
       "</style>\n",
       "<table border=\"1\" class=\"dataframe\">\n",
       "  <thead>\n",
       "    <tr style=\"text-align: right;\">\n",
       "      <th></th>\n",
       "      <th>address</th>\n",
       "      <th>attributes</th>\n",
       "      <th>business_id</th>\n",
       "      <th>categories</th>\n",
       "      <th>city</th>\n",
       "      <th>hours</th>\n",
       "      <th>latitude</th>\n",
       "      <th>longitude</th>\n",
       "      <th>name</th>\n",
       "      <th>postal_code</th>\n",
       "      <th>review_count</th>\n",
       "      <th>stars</th>\n",
       "      <th>state</th>\n",
       "    </tr>\n",
       "  </thead>\n",
       "  <tbody>\n",
       "    <tr>\n",
       "      <th>2</th>\n",
       "      <td>10110 Johnston Rd, Ste 15</td>\n",
       "      <td>{'GoodForKids': 'True', 'NoiseLevel': 'u'avera...</td>\n",
       "      <td>gnKjwL_1w79qoiV3IC_xQQ</td>\n",
       "      <td>Sushi Bars, Restaurants, Japanese</td>\n",
       "      <td>Charlotte</td>\n",
       "      <td>{'Monday': '17:30-21:30', 'Wednesday': '17:30-...</td>\n",
       "      <td>35.092564</td>\n",
       "      <td>-80.859132</td>\n",
       "      <td>Musashi Japanese Restaurant</td>\n",
       "      <td>28210</td>\n",
       "      <td>170</td>\n",
       "      <td>4.0</td>\n",
       "      <td>NC</td>\n",
       "    </tr>\n",
       "    <tr>\n",
       "      <th>4</th>\n",
       "      <td>4209 Stuart Andrew Blvd, Ste F</td>\n",
       "      <td>{'BusinessAcceptsBitcoin': 'False', 'ByAppoint...</td>\n",
       "      <td>HhyxOkGAM07SRYtlQ4wMFQ</td>\n",
       "      <td>Plumbing, Shopping, Local Services, Home Servi...</td>\n",
       "      <td>Charlotte</td>\n",
       "      <td>{'Monday': '7:0-23:0', 'Tuesday': '7:0-23:0', ...</td>\n",
       "      <td>35.190012</td>\n",
       "      <td>-80.887223</td>\n",
       "      <td>Queen City Plumbing</td>\n",
       "      <td>28217</td>\n",
       "      <td>4</td>\n",
       "      <td>4.0</td>\n",
       "      <td>NC</td>\n",
       "    </tr>\n",
       "    <tr>\n",
       "      <th>7</th>\n",
       "      <td>4545 E Tropicana Rd Ste 8, Tropicana</td>\n",
       "      <td>{'RestaurantsPriceRange2': '3', 'GoodForKids':...</td>\n",
       "      <td>gbQN7vr_caG_A1ugSmGhWg</td>\n",
       "      <td>Hair Salons, Hair Stylists, Barbers, Men's Hai...</td>\n",
       "      <td>Las Vegas</td>\n",
       "      <td>{'Monday': '10:0-19:0', 'Tuesday': '10:0-19:0'...</td>\n",
       "      <td>36.099872</td>\n",
       "      <td>-115.074574</td>\n",
       "      <td>Supercuts</td>\n",
       "      <td>89121</td>\n",
       "      <td>3</td>\n",
       "      <td>3.5</td>\n",
       "      <td>NV</td>\n",
       "    </tr>\n",
       "    <tr>\n",
       "      <th>11</th>\n",
       "      <td>2450 E Indian School Rd</td>\n",
       "      <td>{'RestaurantsTakeOut': 'True', 'BusinessParkin...</td>\n",
       "      <td>1Dfx3zM-rW4n-31KeC8sJg</td>\n",
       "      <td>Restaurants, Breakfast &amp; Brunch, Mexican, Taco...</td>\n",
       "      <td>Phoenix</td>\n",
       "      <td>{'Monday': '7:0-0:0', 'Tuesday': '7:0-0:0', 'W...</td>\n",
       "      <td>33.495194</td>\n",
       "      <td>-112.028588</td>\n",
       "      <td>Taco Bell</td>\n",
       "      <td>85016</td>\n",
       "      <td>18</td>\n",
       "      <td>3.0</td>\n",
       "      <td>AZ</td>\n",
       "    </tr>\n",
       "    <tr>\n",
       "      <th>16</th>\n",
       "      <td>4848 E Cactus Rd, Ste 100</td>\n",
       "      <td>{'BusinessAcceptsCreditCards': 'True', 'Busine...</td>\n",
       "      <td>giC3pVVFxCRR89rApqklyw</td>\n",
       "      <td>Hair Stylists, Beauty &amp; Spas, Hair Salons, Men...</td>\n",
       "      <td>Scottsdale</td>\n",
       "      <td>{'Monday': '0:0-0:0', 'Tuesday': '9:0-19:0', '...</td>\n",
       "      <td>33.600071</td>\n",
       "      <td>-111.977371</td>\n",
       "      <td>Knot Salon</td>\n",
       "      <td>85254</td>\n",
       "      <td>5</td>\n",
       "      <td>5.0</td>\n",
       "      <td>AZ</td>\n",
       "    </tr>\n",
       "  </tbody>\n",
       "</table>\n",
       "</div>"
      ],
      "text/plain": [
       "                                 address  \\\n",
       "2              10110 Johnston Rd, Ste 15   \n",
       "4         4209 Stuart Andrew Blvd, Ste F   \n",
       "7   4545 E Tropicana Rd Ste 8, Tropicana   \n",
       "11               2450 E Indian School Rd   \n",
       "16             4848 E Cactus Rd, Ste 100   \n",
       "\n",
       "                                           attributes             business_id  \\\n",
       "2   {'GoodForKids': 'True', 'NoiseLevel': 'u'avera...  gnKjwL_1w79qoiV3IC_xQQ   \n",
       "4   {'BusinessAcceptsBitcoin': 'False', 'ByAppoint...  HhyxOkGAM07SRYtlQ4wMFQ   \n",
       "7   {'RestaurantsPriceRange2': '3', 'GoodForKids':...  gbQN7vr_caG_A1ugSmGhWg   \n",
       "11  {'RestaurantsTakeOut': 'True', 'BusinessParkin...  1Dfx3zM-rW4n-31KeC8sJg   \n",
       "16  {'BusinessAcceptsCreditCards': 'True', 'Busine...  giC3pVVFxCRR89rApqklyw   \n",
       "\n",
       "                                           categories        city  \\\n",
       "2                   Sushi Bars, Restaurants, Japanese   Charlotte   \n",
       "4   Plumbing, Shopping, Local Services, Home Servi...   Charlotte   \n",
       "7   Hair Salons, Hair Stylists, Barbers, Men's Hai...   Las Vegas   \n",
       "11  Restaurants, Breakfast & Brunch, Mexican, Taco...     Phoenix   \n",
       "16  Hair Stylists, Beauty & Spas, Hair Salons, Men...  Scottsdale   \n",
       "\n",
       "                                                hours   latitude   longitude  \\\n",
       "2   {'Monday': '17:30-21:30', 'Wednesday': '17:30-...  35.092564  -80.859132   \n",
       "4   {'Monday': '7:0-23:0', 'Tuesday': '7:0-23:0', ...  35.190012  -80.887223   \n",
       "7   {'Monday': '10:0-19:0', 'Tuesday': '10:0-19:0'...  36.099872 -115.074574   \n",
       "11  {'Monday': '7:0-0:0', 'Tuesday': '7:0-0:0', 'W...  33.495194 -112.028588   \n",
       "16  {'Monday': '0:0-0:0', 'Tuesday': '9:0-19:0', '...  33.600071 -111.977371   \n",
       "\n",
       "                           name postal_code  review_count  stars state  \n",
       "2   Musashi Japanese Restaurant       28210           170    4.0    NC  \n",
       "4           Queen City Plumbing       28217             4    4.0    NC  \n",
       "7                     Supercuts       89121             3    3.5    NV  \n",
       "11                    Taco Bell       85016            18    3.0    AZ  \n",
       "16                   Knot Salon       85254             5    5.0    AZ  "
      ]
     },
     "execution_count": 6,
     "metadata": {},
     "output_type": "execute_result"
    }
   ],
   "source": [
    "# Limiting low frequency cities to 500. Below is the list of cities to keep\n",
    "\n",
    "keep_city = list(pd.DataFrame(df.groupby('city').filter(lambda x : len(x)>500)['city'].value_counts()).reset_index()['index'])\n",
    "print('Cities to keep:', keep_city)\n",
    "df.drop(df[~df.city.isin(keep_city)].index, inplace=True)\n",
    "\n",
    "df.drop(df[df.is_open == 0].index, inplace = True) # dropping permanently closed businesses\n",
    "df.drop(['is_open'], axis = 1, inplace = True) # dropping because are all open\n",
    "df.head()\n"
   ]
  },
  {
   "cell_type": "code",
   "execution_count": 7,
   "metadata": {},
   "outputs": [
    {
     "data": {
      "text/plain": [
       "Index(['address', 'attributes', 'business_id', 'categories', 'city', 'hours',\n",
       "       'latitude', 'longitude', 'name', 'postal_code', 'review_count', 'stars',\n",
       "       'state'],\n",
       "      dtype='object')"
      ]
     },
     "execution_count": 7,
     "metadata": {},
     "output_type": "execute_result"
    }
   ],
   "source": [
    "df.columns"
   ]
  },
  {
   "cell_type": "markdown",
   "metadata": {},
   "source": [
    "Distance between businesses"
   ]
  },
  {
   "cell_type": "code",
   "execution_count": 20,
   "metadata": {
    "scrolled": true
   },
   "outputs": [
    {
     "name": "stdout",
     "output_type": "stream",
     "text": [
      "WARNING: The conda.compat module is deprecated and will be removed in a future release.\n",
      "Collecting package metadata: done\n",
      "Solving environment: | \n",
      "The environment is inconsistent, please check the package plan carefully\n",
      "The following packages are causing the inconsistency:\n",
      "\n",
      "  - defaults/osx-64::nbconvert==5.4.0=py37_1\n",
      "  - defaults/osx-64::jupyterlab==0.35.3=py37_0\n",
      "  - defaults/osx-64::jupyter==1.0.0=py37_7\n",
      "  - defaults/osx-64::ipywidgets==7.4.2=py37_0\n",
      "  - defaults/osx-64::notebook==5.7.4=py37_0\n",
      "  - defaults/osx-64::spyder==3.3.2=py37_0\n",
      "  - defaults/osx-64::jupyterlab_server==0.2.0=py37_0\n",
      "  - defaults/osx-64::widgetsnbextension==3.4.2=py37_0\n",
      "  - defaults/osx-64::_ipyw_jlab_nb_ext_conf==0.1.0=py37_0\n",
      "  - defaults/osx-64::xlwings==0.15.1=py37_0\n",
      "failed\n",
      "\n",
      "PackagesNotFoundError: The following packages are not available from current channels:\n",
      "\n",
      "  - geopy\n",
      "\n",
      "Current channels:\n",
      "\n",
      "  - https://repo.anaconda.com/pkgs/main/osx-64\n",
      "  - https://repo.anaconda.com/pkgs/main/noarch\n",
      "  - https://repo.anaconda.com/pkgs/free/osx-64\n",
      "  - https://repo.anaconda.com/pkgs/free/noarch\n",
      "  - https://repo.anaconda.com/pkgs/r/osx-64\n",
      "  - https://repo.anaconda.com/pkgs/r/noarch\n",
      "\n",
      "To search for alternate channels that may provide the conda package you're\n",
      "looking for, navigate to\n",
      "\n",
      "    https://anaconda.org\n",
      "\n",
      "and use the search bar at the top of the page.\n",
      "\n",
      "\n"
     ]
    }
   ],
   "source": [
    "!conda install -y geopy"
   ]
  },
  {
   "cell_type": "code",
   "execution_count": 26,
   "metadata": {},
   "outputs": [
    {
     "name": "stdout",
     "output_type": "stream",
     "text": [
      "/bin/sh: version: command not found\r\n"
     ]
    }
   ],
   "source": [
    "!version"
   ]
  },
  {
   "cell_type": "code",
   "execution_count": 24,
   "metadata": {},
   "outputs": [
    {
     "ename": "ModuleNotFoundError",
     "evalue": "No module named 'geographiclib'",
     "output_type": "error",
     "traceback": [
      "\u001b[0;31m---------------------------------------------------------------------------\u001b[0m",
      "\u001b[0;31mModuleNotFoundError\u001b[0m                       Traceback (most recent call last)",
      "\u001b[0;32m<ipython-input-24-8e5498022cd5>\u001b[0m in \u001b[0;36m<module>\u001b[0;34m()\u001b[0m\n\u001b[1;32m      4\u001b[0m \u001b[0;31m# location = geolocator.geocode(\"175 5th Avenue NYC\")\u001b[0m\u001b[0;34m\u001b[0m\u001b[0;34m\u001b[0m\u001b[0m\n\u001b[1;32m      5\u001b[0m \u001b[0;31m# print(location.address)\u001b[0m\u001b[0;34m\u001b[0m\u001b[0;34m\u001b[0m\u001b[0m\n\u001b[0;32m----> 6\u001b[0;31m \u001b[0;32mfrom\u001b[0m \u001b[0mgeopy\u001b[0m\u001b[0;34m.\u001b[0m\u001b[0mdistance\u001b[0m \u001b[0;32mimport\u001b[0m \u001b[0mgreat_circle\u001b[0m\u001b[0;34m\u001b[0m\u001b[0m\n\u001b[0m",
      "\u001b[0;32m~/Desktop/class-labs/Mod-4/Event-Planner-Project/geopy/distance.py\u001b[0m in \u001b[0;36m<module>\u001b[0;34m()\u001b[0m\n\u001b[1;32m     92\u001b[0m \u001b[0;32mfrom\u001b[0m \u001b[0mmath\u001b[0m \u001b[0;32mimport\u001b[0m \u001b[0masin\u001b[0m\u001b[0;34m,\u001b[0m \u001b[0matan\u001b[0m\u001b[0;34m,\u001b[0m \u001b[0matan2\u001b[0m\u001b[0;34m,\u001b[0m \u001b[0mcos\u001b[0m\u001b[0;34m,\u001b[0m \u001b[0mpi\u001b[0m\u001b[0;34m,\u001b[0m \u001b[0msin\u001b[0m\u001b[0;34m,\u001b[0m \u001b[0msqrt\u001b[0m\u001b[0;34m,\u001b[0m \u001b[0mtan\u001b[0m\u001b[0;34m\u001b[0m\u001b[0m\n\u001b[1;32m     93\u001b[0m \u001b[0;34m\u001b[0m\u001b[0m\n\u001b[0;32m---> 94\u001b[0;31m \u001b[0;32mfrom\u001b[0m \u001b[0mgeographiclib\u001b[0m\u001b[0;34m.\u001b[0m\u001b[0mgeodesic\u001b[0m \u001b[0;32mimport\u001b[0m \u001b[0mGeodesic\u001b[0m\u001b[0;34m\u001b[0m\u001b[0m\n\u001b[0m\u001b[1;32m     95\u001b[0m \u001b[0;34m\u001b[0m\u001b[0m\n\u001b[1;32m     96\u001b[0m \u001b[0;32mfrom\u001b[0m \u001b[0mgeopy\u001b[0m \u001b[0;32mimport\u001b[0m \u001b[0munits\u001b[0m\u001b[0;34m,\u001b[0m \u001b[0mutil\u001b[0m\u001b[0;34m\u001b[0m\u001b[0m\n",
      "\u001b[0;31mModuleNotFoundError\u001b[0m: No module named 'geographiclib'"
     ]
    }
   ],
   "source": [
    "# from geopy.distance import geodesic\n",
    "# from geopy.geocoders import Nominatim\n",
    "# geolocator = Nominatim(user_agent=\"specify_your_app_name_here\")\n",
    "# location = geolocator.geocode(\"175 5th Avenue NYC\")\n",
    "# print(location.address)\n",
    "from geopy.distance import great_circle"
   ]
  },
  {
   "cell_type": "code",
   "execution_count": 16,
   "metadata": {
    "scrolled": true
   },
   "outputs": [],
   "source": [
    "\n",
    "\n",
    "df_location = df[['business_id','name','city','address','state','latitude','longitude']]\n",
    "df_location = df_location.reset_index()\n",
    "\n",
    "df_location['lat_long'] = \"(\" + df_location['latitude'].map(str) + ',' + df_location['longitude'].map(str) + \")\"\n"
   ]
  },
  {
   "cell_type": "code",
   "execution_count": 17,
   "metadata": {},
   "outputs": [
    {
     "data": {
      "text/plain": [
       "0"
      ]
     },
     "execution_count": 17,
     "metadata": {},
     "output_type": "execute_result"
    }
   ],
   "source": [
    "df_location.longitude.isna().sum()"
   ]
  },
  {
   "cell_type": "code",
   "execution_count": 18,
   "metadata": {},
   "outputs": [
    {
     "data": {
      "text/plain": [
       "0"
      ]
     },
     "execution_count": 18,
     "metadata": {},
     "output_type": "execute_result"
    }
   ],
   "source": [
    "df_location['lat_long'].isna().sum()"
   ]
  },
  {
   "cell_type": "code",
   "execution_count": 19,
   "metadata": {},
   "outputs": [],
   "source": [
    "df_location['lat_long'] = df_location['lat_long'].apply(ast.literal_eval)"
   ]
  },
  {
   "cell_type": "code",
   "execution_count": null,
   "metadata": {},
   "outputs": [],
   "source": [
    "df_test = df_location.copy()\n",
    "for num, val in enumerate(df_location.lat_long):\n",
    "    ls = []\n",
    "    for b in df_location.lat_long:\n",
    "        ls.append(great_circle(val, b).miles)\n",
    "    df_test[f\"distance_{num}\"] = ls\n",
    "        \n",
    "df_test"
   ]
  },
  {
   "cell_type": "markdown",
   "metadata": {},
   "source": [
    "Cleaning Features"
   ]
  },
  {
   "cell_type": "code",
   "execution_count": null,
   "metadata": {},
   "outputs": [],
   "source": [
    "# Categories df\n",
    "\n",
    "cat = pd.read_json('categories.json')"
   ]
  },
  {
   "cell_type": "code",
   "execution_count": null,
   "metadata": {
    "scrolled": true
   },
   "outputs": [],
   "source": [
    "cat.head(2)"
   ]
  },
  {
   "cell_type": "code",
   "execution_count": null,
   "metadata": {},
   "outputs": [],
   "source": [
    "df.categories = df.categories.apply(lambda x: x.replace(\" \",\"\"))"
   ]
  },
  {
   "cell_type": "code",
   "execution_count": null,
   "metadata": {},
   "outputs": [],
   "source": [
    "df.categories = df.categories.str.split(\",\")"
   ]
  },
  {
   "cell_type": "code",
   "execution_count": null,
   "metadata": {},
   "outputs": [],
   "source": [
    "df = df.reset_index().drop(['index'],axis = 1)"
   ]
  },
  {
   "cell_type": "code",
   "execution_count": null,
   "metadata": {},
   "outputs": [],
   "source": [
    "ls = []\n",
    "for i in range(df.shape[0]):\n",
    "    if df.categories[i] == None:\n",
    "        ls.append(np.nan)\n",
    "    else:\n",
    "        x = str(cat.parents[cat.title == df.categories[i][0]])\n",
    "        ls.append(x[x.index(\"[\")+1:x.index(\"]\")])\n",
    "df[\"parents\"] = ls"
   ]
  },
  {
   "cell_type": "code",
   "execution_count": null,
   "metadata": {},
   "outputs": [],
   "source": [
    "# Restaurants only\n",
    "df_non_restaurants = df.drop(df[df.parents == 'restaurants'].index)\n",
    "df = df.drop(df[df.parents != 'restaurants'].index)\n",
    "df.head()"
   ]
  },
  {
   "cell_type": "code",
   "execution_count": null,
   "metadata": {},
   "outputs": [],
   "source": [
    "# Converting Attributes dictionary in dataframe\n",
    "\n",
    "attributes_df = df.attributes.apply(pd.Series)\n",
    "attributes_df = pd.concat([df, attributes_df], axis = 1)\n",
    "\n",
    "#Dropping non-attribute columns\n",
    "attributes_df = attributes_df.drop(['address', 'attributes','hours',\n",
    "                                    'latitude', 'longitude', 'name', 'postal_code'], axis = 1)"
   ]
  },
  {
   "cell_type": "code",
   "execution_count": null,
   "metadata": {},
   "outputs": [],
   "source": [
    "#Cleaning Noise Level\n",
    "\n",
    "ch = {\"u'average'\": \"'average'\",\"u'quiet'\": \"'quiet'\",\"u'loud'\": \"'loud'\",\"u'very_loud'\": \"'very_loud'\"}\n",
    "attributes_df.NoiseLevel = attributes_df.NoiseLevel.replace(to_replace = ch, value=None)"
   ]
  },
  {
   "cell_type": "code",
   "execution_count": null,
   "metadata": {
    "scrolled": false
   },
   "outputs": [],
   "source": [
    "attributes_df.RestaurantsPriceRange2.value_counts()"
   ]
  },
  {
   "cell_type": "code",
   "execution_count": null,
   "metadata": {},
   "outputs": [],
   "source": [
    "attributes_df[(attributes_df.review_count > 50) & (attributes_df.GoodForMeal.isnull() == True)].business_id.count()"
   ]
  },
  {
   "cell_type": "code",
   "execution_count": null,
   "metadata": {},
   "outputs": [],
   "source": [
    "attributes_df = attributes_df[attributes_df.GoodForMeal.isnull() == False]"
   ]
  },
  {
   "cell_type": "code",
   "execution_count": null,
   "metadata": {},
   "outputs": [],
   "source": [
    "attributes_df = attributes_df.reset_index().drop(['index'], axis = 1)"
   ]
  },
  {
   "cell_type": "code",
   "execution_count": null,
   "metadata": {
    "scrolled": true
   },
   "outputs": [],
   "source": [
    "goodformeal_df = attributes_df.GoodForMeal.apply(ast.literal_eval)\n",
    "goodformeal_df = goodformeal_df.apply(pd.Series)\n",
    "goodformeal_df.head(2)"
   ]
  },
  {
   "cell_type": "code",
   "execution_count": null,
   "metadata": {},
   "outputs": [],
   "source": [
    "attributes_df = pd.concat([attributes_df, goodformeal_df], axis = 1)"
   ]
  },
  {
   "cell_type": "code",
   "execution_count": null,
   "metadata": {},
   "outputs": [],
   "source": [
    "cat_df = attributes_df.categories.apply(lambda x: dict(zip(x, [True]*len(x)))).apply(pd.Series)"
   ]
  },
  {
   "cell_type": "code",
   "execution_count": null,
   "metadata": {},
   "outputs": [],
   "source": [
    "attributes_df = pd.concat([attributes_df, cat_df], axis = 1)"
   ]
  },
  {
   "cell_type": "code",
   "execution_count": null,
   "metadata": {},
   "outputs": [],
   "source": [
    "attributes_df.shape"
   ]
  },
  {
   "cell_type": "code",
   "execution_count": null,
   "metadata": {},
   "outputs": [],
   "source": [
    "#Categories to drop : low frequency < 5\n",
    "\n",
    "cat_drop = []\n",
    "for col in cat_df.columns:\n",
    "    if cat_df[col].count() <=5:\n",
    "        cat_drop.append(col)\n",
    "len(cat_drop)"
   ]
  },
  {
   "cell_type": "code",
   "execution_count": null,
   "metadata": {},
   "outputs": [],
   "source": [
    "# Dropping from attributes df low frequency columns\n",
    "\n",
    "for col in cat_drop:\n",
    "    attributes_df.drop([col],axis =1, inplace=True)"
   ]
  },
  {
   "cell_type": "code",
   "execution_count": null,
   "metadata": {},
   "outputs": [],
   "source": [
    "attributes_df.shape"
   ]
  },
  {
   "cell_type": "code",
   "execution_count": null,
   "metadata": {},
   "outputs": [],
   "source": [
    "attributes_df = attributes_df[attributes_df.RestaurantsPriceRange2 != 'None']\n",
    "attributes_df.drop(['categories'],axis = 1)"
   ]
  },
  {
   "cell_type": "code",
   "execution_count": null,
   "metadata": {},
   "outputs": [],
   "source": [
    "clean_df = attributes_df.drop(['categories','city','state','parents','RestaurantsTakeOut',\n",
    "                   'RestaurantsDelivery','DriveThru','GoodForMeal','WiFi',\n",
    "                   'Caters','RestaurantsTableService','BYOBCorkage','Corkage',\n",
    "                   'BYOB','CoatCheck','Smoking','GoodForDancing','DogsAllowed',\n",
    "                   'BusinessAcceptsBitcoin','ByAppointmentOnly','AgesAllowed',\n",
    "                   'Open24Hours','DietaryRestrictions','RestaurantsCounterService',\n",
    "                   'AcceptsInsurance','Music','BestNights', 'HappyHour'],axis = 1)"
   ]
  },
  {
   "cell_type": "code",
   "execution_count": null,
   "metadata": {
    "scrolled": false
   },
   "outputs": [],
   "source": [
    "# Number of Ambience null values to drop\n",
    "sum(clean_df.Ambience.isnull())"
   ]
  },
  {
   "cell_type": "code",
   "execution_count": null,
   "metadata": {
    "scrolled": true
   },
   "outputs": [],
   "source": [
    "# Unpacking Ambience dictionary & dropping null values\n",
    "\n",
    "clean_df = clean_df[clean_df.Ambience.isnull() == False]\n",
    "ambience_df = clean_df.Ambience.apply(ast.literal_eval)\n",
    "ambience_df = ambience_df.apply(pd.Series)\n",
    "clean_df = pd.concat([clean_df, ambience_df], axis = 1)\n",
    "clean_df.drop(['Ambience'],axis = 1,inplace = True)\n",
    "clean_df.head(2)"
   ]
  },
  {
   "cell_type": "code",
   "execution_count": null,
   "metadata": {
    "scrolled": true
   },
   "outputs": [],
   "source": [
    "clean_df[clean_df.BusinessParking.isnull() == True]"
   ]
  },
  {
   "cell_type": "code",
   "execution_count": null,
   "metadata": {
    "scrolled": true
   },
   "outputs": [],
   "source": [
    "clean_df[clean_df.BusinessParking.isnull() == True]"
   ]
  },
  {
   "cell_type": "code",
   "execution_count": null,
   "metadata": {},
   "outputs": [],
   "source": [
    "# Unpacking Parking column - replacing null values by no street parking\n",
    "\n",
    "parking_df = clean_df.BusinessParking.replace(to_replace = np.nan, value = \"{'street':False}\")\n",
    "parking_df = parking_df.apply(ast.literal_eval)\n",
    "parking_df = parking_df.apply(pd.Series)"
   ]
  },
  {
   "cell_type": "code",
   "execution_count": null,
   "metadata": {},
   "outputs": [],
   "source": [
    "# Assigning Boolean value to parking: True if garage, validated, lot, valet parking available; False otherwise.\n",
    "\n",
    "parking_df['parking'] = parking_df['garage']|parking_df['validated']|parking_df['lot']|parking_df['valet']\n",
    "parking_df.drop(['garage','street','validated','lot','valet'], axis = 1, inplace=True)\n",
    "clean_df = pd.concat([clean_df, parking_df], axis = 1)\n",
    "clean_df.drop(['BusinessParking'],axis = 1,inplace = True)"
   ]
  },
  {
   "cell_type": "code",
   "execution_count": null,
   "metadata": {},
   "outputs": [],
   "source": [
    "#Cleaning Restaurants Attire\n",
    "\n",
    "attire = {\"u'casual'\": \"'casual'\",\"u'dressy'\": \"'dressy'\",\"u'formal'\":\"'dressy'\",\"'formal'\":\"'dressy'\"}\n",
    "clean_df.RestaurantsAttire = clean_df.RestaurantsAttire.replace(to_replace = attire, value=None)"
   ]
  },
  {
   "cell_type": "code",
   "execution_count": null,
   "metadata": {},
   "outputs": [],
   "source": [
    "#Cleaning Alcohol\n",
    "\n",
    "alc = {\"u'none'\": \"False\",\"'none'\": \"False\",\"None\": \"False\",\"u'full_bar'\": \"True\",\"'full_bar'\": \"True\",\n",
    "      \"u'beer_and_wine'\": \"True\",\"'beer_and_wine'\":\"True\"}\n",
    "clean_df.Alcohol = clean_df.Alcohol.replace(to_replace = alc, value=None)"
   ]
  },
  {
   "cell_type": "code",
   "execution_count": null,
   "metadata": {},
   "outputs": [],
   "source": [
    "clean_df.WheelchairAccessible.value_counts()"
   ]
  },
  {
   "cell_type": "code",
   "execution_count": null,
   "metadata": {},
   "outputs": [],
   "source": [
    "clean_df.head(3)"
   ]
  },
  {
   "cell_type": "code",
   "execution_count": null,
   "metadata": {},
   "outputs": [],
   "source": [
    "# Filling NA values\n",
    "\n",
    "clean_df.RestaurantsPriceRange2.fillna(1, inplace = True)\n",
    "clean_df.RestaurantsPriceRange2.isna().sum()"
   ]
  },
  {
   "cell_type": "code",
   "execution_count": null,
   "metadata": {},
   "outputs": [],
   "source": [
    "clean_df.RestaurantsAttire.value_counts()"
   ]
  },
  {
   "cell_type": "code",
   "execution_count": null,
   "metadata": {},
   "outputs": [],
   "source": [
    "\n",
    "\n",
    "wch = {False:0, True:1,'False':0, 'True':1,'None':0}\n",
    "clean_df.WheelchairAccessible = clean_df.WheelchairAccessible.replace(to_replace = wch, value=None)\n",
    "clean_df.GoodForKids = clean_df.GoodForKids.replace(to_replace = wch, value=None)\n",
    "clean_df.HasTV = clean_df.HasTV.replace(to_replace = wch, value=None)\n",
    "clean_df.OutdoorSeating = clean_df.OutdoorSeating.replace(to_replace = wch, value=None)\n",
    "clean_df.BikeParking = clean_df.BikeParking.replace(to_replace = wch, value=None)\n",
    "clean_df.Alcohol = clean_df.Alcohol.replace(to_replace = wch, value=None)\n",
    "clean_df.BusinessAcceptsCreditCards = clean_df.BusinessAcceptsCreditCards.replace(to_replace = wch, value=None)\n",
    "clean_df.RestaurantsReservations = clean_df.RestaurantsReservations.replace(to_replace = wch, value=None)\n",
    "clean_df.RestaurantsGoodForGroups = clean_df.RestaurantsGoodForGroups.replace(to_replace = wch, value=None)\n",
    "\n",
    "clean_df.RestaurantsAttire.fillna(\"'casual'\", inplace = True)  \n",
    "\n",
    "clean_df.NoiseLevel = clean_df.NoiseLevel.replace('None', value=\"'average'\")\n",
    "clean_df.NoiseLevel.fillna(\"'average'\", inplace = True)  \n",
    "\n",
    "clean_df.WheelchairAccessible.fillna(2, inplace = True)  # 2 means unknown\n",
    "clean_df.fillna(0, inplace=True)\n",
    "clean_df = clean_df.replace(to_replace = wch, value=None)"
   ]
  },
  {
   "cell_type": "code",
   "execution_count": null,
   "metadata": {},
   "outputs": [],
   "source": [
    "# change type\n",
    "clean_df.RestaurantsPriceRange2 = clean_df.RestaurantsPriceRange2.astype(int)"
   ]
  },
  {
   "cell_type": "code",
   "execution_count": null,
   "metadata": {},
   "outputs": [],
   "source": [
    "clean_df = pd.concat([clean_df,pd.get_dummies(clean_df.NoiseLevel),pd.get_dummies(clean_df.RestaurantsAttire)],\n",
    "                     axis = 1)\n",
    "clean_df.drop(['NoiseLevel','RestaurantsAttire'], axis = 1, inplace = True)"
   ]
  },
  {
   "cell_type": "code",
   "execution_count": null,
   "metadata": {},
   "outputs": [],
   "source": [
    "clean_df.head(2)"
   ]
  },
  {
   "cell_type": "code",
   "execution_count": null,
   "metadata": {},
   "outputs": [],
   "source": [
    "clean_df = clean_df.reset_index()"
   ]
  },
  {
   "cell_type": "code",
   "execution_count": null,
   "metadata": {},
   "outputs": [],
   "source": [
    "clean_df.drop(['index'],axis = 1, inplace= True)"
   ]
  },
  {
   "cell_type": "markdown",
   "metadata": {},
   "source": [
    "### Part 2: Modeling"
   ]
  },
  {
   "cell_type": "code",
   "execution_count": null,
   "metadata": {},
   "outputs": [],
   "source": [
    "X = clean_df.drop(['business_id'], axis = 1)"
   ]
  },
  {
   "cell_type": "code",
   "execution_count": null,
   "metadata": {},
   "outputs": [],
   "source": [
    "X.shape"
   ]
  },
  {
   "cell_type": "markdown",
   "metadata": {},
   "source": [
    "#### Part 2 A: Clustering"
   ]
  },
  {
   "cell_type": "code",
   "execution_count": null,
   "metadata": {},
   "outputs": [],
   "source": [
    "\n",
    "k_means = KMeans(n_clusters=10) # Must set number of clusters at initialization time!\n",
    "k_means.fit(X)"
   ]
  },
  {
   "cell_type": "code",
   "execution_count": null,
   "metadata": {},
   "outputs": [],
   "source": [
    "preds = k_means.predict(X)"
   ]
  },
  {
   "cell_type": "code",
   "execution_count": null,
   "metadata": {},
   "outputs": [],
   "source": [
    "centers = k_means.cluster_centers_"
   ]
  },
  {
   "cell_type": "code",
   "execution_count": null,
   "metadata": {
    "scrolled": true
   },
   "outputs": [],
   "source": [
    "pd.DataFrame(k_means.cluster_centers_, columns = X.columns)"
   ]
  },
  {
   "cell_type": "markdown",
   "metadata": {},
   "source": [
    "Optimal number of clusters"
   ]
  },
  {
   "cell_type": "code",
   "execution_count": null,
   "metadata": {},
   "outputs": [],
   "source": [
    "k_means_4 = KMeans(n_clusters=4).fit(X)\n",
    "k_means_7 = KMeans(n_clusters=7).fit(X)\n",
    "k_means_10 = KMeans(n_clusters=10).fit(X)\n",
    "k_means_13 = KMeans(n_clusters=13).fit(X)\n",
    "k_means_16 = KMeans(n_clusters=16).fit(X)\n",
    "k_means_19 = KMeans(n_clusters=19).fit(X)\n",
    "k_means_22 = KMeans(n_clusters=22).fit(X)\n",
    "k_means_25 = KMeans(n_clusters=100).fit(X)\n",
    "\n",
    "k_list = [k_means_4,k_means_7,k_means_10,k_means_13,k_means_16,k_means_19,k_means_22,k_means_25]"
   ]
  },
  {
   "cell_type": "code",
   "execution_count": null,
   "metadata": {},
   "outputs": [],
   "source": [
    "CH_score = []\n",
    "for ls in k_list:\n",
    "    labels = ls.labels_\n",
    "    CH_score.append(calinski_harabaz_score(X,labels))"
   ]
  },
  {
   "cell_type": "code",
   "execution_count": null,
   "metadata": {},
   "outputs": [],
   "source": [
    "plt.plot([4,7,10,13,16,19,22,100], CH_score)\n",
    "plt.xticks([4,7,10,13,16,19,22,100])\n",
    "plt.title(\"Calinski Harabaz Scores for Different Values of K\")\n",
    "plt.ylabel(\"Variance Ratio\")\n",
    "plt.xlabel(\"K=\")\n",
    "plt.show()"
   ]
  },
  {
   "cell_type": "code",
   "execution_count": null,
   "metadata": {},
   "outputs": [],
   "source": [
    "# Testing different number of clusters to find \n",
    "\n",
    "k_means_16 = KMeans(n_clusters=16).fit(X)\n",
    "k_means_19 = KMeans(n_clusters=19).fit(X)\n",
    "k_means_22 = KMeans(n_clusters=22).fit(X)\n",
    "k_means_25 = KMeans(n_clusters=25).fit(X)\n",
    "k_means_30 = KMeans(n_clusters=30).fit(X)\n",
    "\n",
    "k_means_5 = KMeans(n_clusters=5).fit(X)\n",
    "k_means_50 = KMeans(n_clusters=50).fit(X)\n",
    "k_means_100 = KMeans(n_clusters=100).fit(X)\n",
    "k_means_150 = KMeans(n_clusters=150).fit(X)\n",
    "k_means_200 = KMeans(n_clusters=200).fit(X)\n",
    "k_means_120 = KMeans(n_clusters=120).fit(X)\n",
    "k_means_130 = KMeans(n_clusters=130).fit(X)\n",
    "k_means_140 = KMeans(n_clusters=140).fit(X)\n",
    "k_means_150 = KMeans(n_clusters=150).fit(X)\n",
    "k_means_160 = KMeans(n_clusters=160).fit(X)\n",
    "k_means_170 = KMeans(n_clusters=170).fit(X)\n",
    "k_means_180 = KMeans(n_clusters=180).fit(X)\n",
    "k_means_190 = KMeans(n_clusters=190).fit(X)\n",
    "\n",
    "\n",
    "k_list = [k_means_16,k_means_19,k_means_22,k_means_25,k_means_30]\n",
    "\n",
    "\n",
    "CH_score = []\n",
    "for ls in k_list:\n",
    "    labels = ls.labels_\n",
    "    CH_score.append(calinski_harabaz_score(X,labels))\n"
   ]
  },
  {
   "cell_type": "code",
   "execution_count": null,
   "metadata": {},
   "outputs": [],
   "source": [
    "plt.plot([16,19,22,25,30], CH_score)\n",
    "plt.xticks([16,19,22,25,30])\n",
    "plt.title(\"Calinski Harabaz Scores for Different Values of K\")\n",
    "plt.ylabel(\"Variance Ratio\")\n",
    "plt.xlabel(\"K=\")\n",
    "plt.show()"
   ]
  },
  {
   "cell_type": "code",
   "execution_count": null,
   "metadata": {},
   "outputs": [],
   "source": [
    "k_list2 = [k_means_120, \n",
    "k_means_130 ,\n",
    "k_means_140 ,\n",
    "k_means_150 ,\n",
    "k_means_160 ,\n",
    "k_means_170 ,\n",
    "k_means_180 ,\n",
    "k_means_190 ]\n",
    "\n",
    "CH_score = []\n",
    "for ls in k_list2:\n",
    "    labels = ls.labels_\n",
    "    CH_score.append(calinski_harabaz_score(X,labels))"
   ]
  },
  {
   "cell_type": "code",
   "execution_count": null,
   "metadata": {},
   "outputs": [],
   "source": [
    "plt.plot([120,130,140,150,160,170,180,190], CH_score)\n",
    "plt.xticks([120,130,140,150,160,170,180,190])\n",
    "plt.title(\"Calinski Harabaz Scores for Different Values of K\")\n",
    "plt.ylabel(\"Variance Ratio\")\n",
    "plt.xlabel(\"K=\")\n",
    "plt.show()"
   ]
  },
  {
   "cell_type": "code",
   "execution_count": null,
   "metadata": {},
   "outputs": [],
   "source": [
    "k_means_130 = KMeans(n_clusters=130, init= 'random').fit_predict(X)"
   ]
  },
  {
   "cell_type": "code",
   "execution_count": null,
   "metadata": {},
   "outputs": [],
   "source": [
    "X_and_Y = pd.concat([X, pd.Series(k_means_130)],axis = 1)\n",
    "X_and_Y.rename(columns={0:'pred'}, inplace=True)"
   ]
  },
  {
   "cell_type": "code",
   "execution_count": null,
   "metadata": {},
   "outputs": [],
   "source": [
    "# Added init parameter\n",
    "\n",
    "k_means_5 = KMeans(n_clusters=5, init = 'random').fit(X)\n",
    "k_means_50 = KMeans(n_clusters=50, init = 'random').fit(X)\n",
    "k_means_100 = KMeans(n_clusters=100, init = 'random').fit(X)\n",
    "k_means_150 = KMeans(n_clusters=150, init = 'random').fit(X)\n",
    "k_means_200 = KMeans(n_clusters=200, init = 'random').fit(X)\n",
    "k_means_120 = KMeans(n_clusters=120, init = 'random').fit(X)\n",
    "k_means_130 = KMeans(n_clusters=130, init = 'random').fit(X)\n",
    "k_means_140 = KMeans(n_clusters=140, init = 'random').fit(X)\n",
    "k_means_150 = KMeans(n_clusters=150, init = 'random').fit(X)\n",
    "k_means_160 = KMeans(n_clusters=160, init = 'random').fit(X)\n",
    "k_means_170 = KMeans(n_clusters=170, init = 'random').fit(X)\n",
    "k_means_180 = KMeans(n_clusters=180, init = 'random').fit(X)\n",
    "k_means_190 = KMeans(n_clusters=190, init = 'random').fit(X)\n",
    "\n",
    "k_list2 = [k_means_120, \n",
    "k_means_130 ,\n",
    "k_means_140 ,\n",
    "k_means_150 ,\n",
    "k_means_160 ,\n",
    "k_means_170 ,\n",
    "k_means_180 ,\n",
    "k_means_190 ]\n",
    "\n",
    "CH_score = []\n",
    "for ls in k_list2:\n",
    "    labels = ls.labels_\n",
    "    CH_score.append(calinski_harabaz_score(X,labels))"
   ]
  },
  {
   "cell_type": "markdown",
   "metadata": {},
   "source": [
    "Calinski Harabaz Score : The higher VRC values point out the most appropriate number of clusters; it appraises both the distance between different clusters, as well as the closeness of data within each of those clusters (Cali´nskiCali´nski and Harabasz, 1974)"
   ]
  },
  {
   "cell_type": "code",
   "execution_count": null,
   "metadata": {},
   "outputs": [],
   "source": [
    "plt.plot([120,130,140,150,160,170,180,190], CH_score)\n",
    "plt.xticks([120,130,140,150,160,170,180,190])\n",
    "plt.title(\"Calinski Harabaz Scores for Different Values of K\")\n",
    "plt.ylabel(\"Variance Ratio\")\n",
    "plt.xlabel(\"K=\")\n",
    "plt.show()"
   ]
  },
  {
   "cell_type": "markdown",
   "metadata": {},
   "source": [
    "Agglomerative clustering"
   ]
  },
  {
   "cell_type": "code",
   "execution_count": null,
   "metadata": {},
   "outputs": [],
   "source": [
    "def agg_cluster(X, n_list):\n",
    "    klist = []\n",
    "    preds_list = []\n",
    "    for n in n_list:\n",
    "        agg = AgglomerativeClustering(n_clusters = n, affinity= 'euclidean', linkage = 'ward')\n",
    "        preds_list.append(agg.fit_predict(X))\n",
    "        klist.append(agg.fit(X))\n",
    "    return klist, preds_list"
   ]
  },
  {
   "cell_type": "code",
   "execution_count": null,
   "metadata": {},
   "outputs": [],
   "source": [
    "k_list, agg_preds= agg_cluster(X, [5,10,50,100])"
   ]
  },
  {
   "cell_type": "code",
   "execution_count": null,
   "metadata": {},
   "outputs": [],
   "source": [
    "def calinski_plot(X, n_list):\n",
    "    k_list, preds_list = agg_cluster(X, n_list)\n",
    "    CH_score = []\n",
    "    for ls in k_list:\n",
    "        labels = ls.labels_\n",
    "        CH_score.append(calinski_harabaz_score(X,labels))\n",
    "\n",
    "    plt.plot(n_list, CH_score)\n",
    "    plt.xticks(n_list)\n",
    "    plt.title(\"Calinski Harabaz Scores for Different Values of K\")\n",
    "    plt.ylabel(\"Variance Ratio\")\n",
    "    plt.xlabel(\"K=\")\n",
    "    plt.show()"
   ]
  },
  {
   "cell_type": "code",
   "execution_count": null,
   "metadata": {},
   "outputs": [],
   "source": [
    "calinski_plot(X, [120,130, 140, 150])"
   ]
  },
  {
   "cell_type": "code",
   "execution_count": null,
   "metadata": {},
   "outputs": [],
   "source": [
    "_, preds = agg_cluster(X, [140])"
   ]
  },
  {
   "cell_type": "code",
   "execution_count": null,
   "metadata": {},
   "outputs": [],
   "source": [
    "def concat_preds(X, preds): \n",
    "    X_and_Y = pd.concat([X, pd.Series(preds[0])],axis = 1)\n",
    "    X_and_Y.rename(columns={0:'pred'}, inplace=True)\n",
    "    return X_and_Y"
   ]
  },
  {
   "cell_type": "code",
   "execution_count": null,
   "metadata": {},
   "outputs": [],
   "source": [
    "X_and_Y = concat_preds(X, preds)"
   ]
  },
  {
   "cell_type": "code",
   "execution_count": null,
   "metadata": {},
   "outputs": [],
   "source": [
    "X_and_Y.head()"
   ]
  },
  {
   "cell_type": "code",
   "execution_count": null,
   "metadata": {},
   "outputs": [],
   "source": [
    "#Gaussian Mixture \n",
    "\n",
    "gmm = GaussianMixture(n_components=100)\n",
    "gmm.fit(X)"
   ]
  },
  {
   "cell_type": "code",
   "execution_count": null,
   "metadata": {},
   "outputs": [],
   "source": [
    "gmm_preds = gmm.predict(X)"
   ]
  },
  {
   "cell_type": "code",
   "execution_count": null,
   "metadata": {},
   "outputs": [],
   "source": [
    "gmm_preds"
   ]
  },
  {
   "cell_type": "code",
   "execution_count": null,
   "metadata": {},
   "outputs": [],
   "source": [
    "def calinski_plot(X, n_list):\n",
    "    \n",
    "    CH_score = []\n",
    "    \n",
    "    for n in n_list:\n",
    "        gmm = GaussianMixture(n_components = n)\n",
    "        gmm_preds = gmm.fit_predict(X)\n",
    "        CH_score.append(calinski_harabaz_score(X,gmm_preds))\n",
    "\n",
    "    plt.plot(n_list, CH_score)\n",
    "    plt.xticks(n_list)\n",
    "    plt.title(\"Calinski Harabaz Scores for Different Values of Components\")\n",
    "    plt.ylabel(\"Variance Ratio\")\n",
    "    plt.xlabel(\"Number of components=\")\n",
    "    plt.show()"
   ]
  },
  {
   "cell_type": "code",
   "execution_count": null,
   "metadata": {},
   "outputs": [],
   "source": [
    "calinski_plot(X, [50,100,120,130,140,150,200])"
   ]
  },
  {
   "cell_type": "code",
   "execution_count": null,
   "metadata": {
    "scrolled": true
   },
   "outputs": [],
   "source": [
    "silhouette_score(X, gmm_preds, metric= '')"
   ]
  },
  {
   "cell_type": "code",
   "execution_count": null,
   "metadata": {},
   "outputs": [],
   "source": [
    "similarity_matrix = pd.DataFrame(pairwise_distances(X, metric='cosine'), columns=clean_df.iloc[:,0])\n",
    "similarity_matrix.head(2)"
   ]
  },
  {
   "cell_type": "code",
   "execution_count": null,
   "metadata": {},
   "outputs": [],
   "source": [
    "similarity_matrix.shape"
   ]
  },
  {
   "cell_type": "code",
   "execution_count": null,
   "metadata": {},
   "outputs": [],
   "source": [
    "df_similarity = pd.concat([clean_df.iloc[:,0],similarity_matrix], axis=1)"
   ]
  },
  {
   "cell_type": "code",
   "execution_count": null,
   "metadata": {},
   "outputs": [],
   "source": []
  },
  {
   "cell_type": "markdown",
   "metadata": {},
   "source": [
    "https://datascience.stackexchange.com/questions/8681/clustering-for-mixed-numeric-and-nominal-discrete-data"
   ]
  },
  {
   "cell_type": "code",
   "execution_count": null,
   "metadata": {
    "scrolled": true
   },
   "outputs": [],
   "source": [
    "similarity_matrix.iloc[0].sort_values()"
   ]
  },
  {
   "cell_type": "code",
   "execution_count": null,
   "metadata": {
    "scrolled": true
   },
   "outputs": [],
   "source": [
    "X_and_Y[X_and_Y.pred == 47.0]"
   ]
  },
  {
   "cell_type": "code",
   "execution_count": null,
   "metadata": {},
   "outputs": [],
   "source": [
    "sorted(list(similarity_matrix.iloc[0]))[1:11]"
   ]
  },
  {
   "cell_type": "code",
   "execution_count": null,
   "metadata": {},
   "outputs": [],
   "source": [
    "def gower_distance(X):\n",
    "    individual_variable_distances = []\n",
    "    for i in range(X.shape[1]):\n",
    "        feature = X.iloc[:,[i]]\n",
    "        if feature.dtypes[0] == np.object:\n",
    "            feature_dist = DistanceMetric.get_metric('dice').pairwise(pd.get_dummies(feature))\n",
    "        else:\n",
    "            feature_dist = DistanceMetric.get_metric('manhattan').pairwise(feature) / np.ptp(feature.values)\n",
    "\n",
    "        individual_variable_distances.append(feature_dist)\n",
    "\n",
    "    return np.array(individual_variable_distances).mean(0)"
   ]
  },
  {
   "cell_type": "code",
   "execution_count": null,
   "metadata": {},
   "outputs": [],
   "source": [
    "!pip install kmodes"
   ]
  },
  {
   "cell_type": "code",
   "execution_count": null,
   "metadata": {},
   "outputs": [],
   "source": [
    "from kmodes.kprototypes import KPrototypes\n",
    "from kmodes.kmodes import KModes"
   ]
  },
  {
   "cell_type": "code",
   "execution_count": null,
   "metadata": {},
   "outputs": [],
   "source": [
    "kmode = KModes(n_clusters = 100, verbose = 2)\n",
    "clustered_modes = kmode.fit_predict(X.iloc[:,1:])"
   ]
  },
  {
   "cell_type": "code",
   "execution_count": null,
   "metadata": {
    "scrolled": true
   },
   "outputs": [],
   "source": [
    "clustered_modes"
   ]
  },
  {
   "cell_type": "markdown",
   "metadata": {},
   "source": [
    "### K-means & K-Mode combination -> K-Prototype algorithm\n",
    "\n",
    "\n",
    "\n",
    "> The k-means algorithm is well known for its efficiency in clustering large data sets. However, working only on numeric values prohibits it from being used to cluster real world data containing categorical values.\n",
    "\n",
    "In this paper we present two algorithms which extend the k-means algorithm to categorical domains and domains with mixed numeric and categorical values.\n",
    "\n",
    "The k-modes algorithm uses a simple matching dissimilarity measure to deal with categorical objects, replaces the means of clusters with modes, and uses a frequency-based method to update modes in the clustering process to minimise the clustering cost function.\n",
    "\n",
    "With these extensions, the k-modes algorithm enables the clustering of categorical data in a fashion similar to k-means.\n",
    "\n",
    "The k-prototypes algorithm, through the definition of a combined dissimilarity measure, further integrates the k-means and k-modes algorithms to allow for clustering objects described by mixed numeric and categorical attributes. "
   ]
  },
  {
   "cell_type": "code",
   "execution_count": null,
   "metadata": {},
   "outputs": [],
   "source": [
    "kproto = KPrototypes(n_clusters=2, init = 'cao', verbose=2)\n",
    "clusters = kproto.fit_predict(X, categorical= list(range(2,165)))"
   ]
  },
  {
   "cell_type": "code",
   "execution_count": null,
   "metadata": {},
   "outputs": [],
   "source": [
    "df_test.name = df_test.name.str.lower()"
   ]
  },
  {
   "cell_type": "code",
   "execution_count": null,
   "metadata": {},
   "outputs": [],
   "source": [
    "df_test[[\"name\", \"city\", \"state\"]] = df_test[[\"name\", \"city\", \"state\"]].apply(lambda x: x.str.lower())"
   ]
  },
  {
   "cell_type": "code",
   "execution_count": null,
   "metadata": {},
   "outputs": [],
   "source": [
    "df_test.drop(['index'], axis=1, inplace=True)"
   ]
  },
  {
   "cell_type": "code",
   "execution_count": null,
   "metadata": {},
   "outputs": [],
   "source": [
    "df_test.iloc[:,8:].shape"
   ]
  },
  {
   "cell_type": "code",
   "execution_count": null,
   "metadata": {},
   "outputs": [],
   "source": [
    "df_distance = df_test.iloc[:,8:]\n",
    "df_distance.columns = df_test.business_id\n",
    "df_distance.columns.name = None\n",
    "\n",
    "# df_distance.index.rename('index', inplace = True)\n",
    "df_distance['business_id'] = df_test.business_id"
   ]
  },
  {
   "cell_type": "code",
   "execution_count": null,
   "metadata": {},
   "outputs": [],
   "source": [
    "df_distance.head()"
   ]
  },
  {
   "cell_type": "code",
   "execution_count": null,
   "metadata": {},
   "outputs": [],
   "source": [
    "df_final = df_similarity.merge(df_test[['name', 'business_id', 'city', 'state']], on='business_id')"
   ]
  },
  {
   "cell_type": "code",
   "execution_count": null,
   "metadata": {},
   "outputs": [],
   "source": [
    "df_final.head()"
   ]
  },
  {
   "cell_type": "code",
   "execution_count": null,
   "metadata": {},
   "outputs": [],
   "source": [
    "def best_restaurant(name, city=None, num = 10):\n",
    "    business = df_final[df_final['name'] == name].business_id\n",
    "    biz_id = business.tolist()[0]\n",
    "    rec_df = df_final[[biz_id, 'name', 'city', 'state', 'business_id']].merge(df_distance[['business_id', biz_id]], on='business_id')\n",
    "    \n",
    "    if city == None:\n",
    "        return rec_df.sort_values(by=f\"{biz_id}_x\", ascending=True)[1:num]\n",
    "    else:\n",
    "        rec_df = rec_df[rec_df['city']==city.lower()]\n",
    "        return rec_df.sort_values(by=f\"{biz_id}_x\", ascending=True)[1:num]\n",
    "        "
   ]
  },
  {
   "cell_type": "code",
   "execution_count": null,
   "metadata": {},
   "outputs": [],
   "source": [
    "best_restaurant('marathon diner', 'henderson')"
   ]
  },
  {
   "cell_type": "code",
   "execution_count": null,
   "metadata": {},
   "outputs": [],
   "source": [
    "a = best_restaurant(\"maria's mexican restaurant & bakery\")"
   ]
  },
  {
   "cell_type": "code",
   "execution_count": null,
   "metadata": {},
   "outputs": [],
   "source": [
    "def find_closest(name):\n",
    "    business = df_final[df_final['name'] == name].business_id\n",
    "    biz_id = business.tolist()[0]\n",
    "    rec_df = df_final[[biz_id, 'name', 'city', 'state', 'business_id']].merge(df_distance[['business_id', biz_id]], on='business_id')\n",
    "    return rec_df.sort_values(by=f\"{biz_id}_y\", ascending=True)\n",
    "    "
   ]
  },
  {
   "cell_type": "code",
   "execution_count": null,
   "metadata": {},
   "outputs": [],
   "source": [
    "def find_dessert(name, max_dist = 5, num = 10 ):\n",
    "    df = find_closest(name)\n",
    "    df = df[df[df.columns[-1]] <= max_dist]\n",
    "    desserts = X_dessert.merge(df, how = 'inner', on = 'business_id')\n",
    "    \n",
    "    return desserts"
   ]
  },
  {
   "cell_type": "code",
   "execution_count": null,
   "metadata": {},
   "outputs": [],
   "source": [
    "find_dessert(\"maria's mexican restaurant & bakery\", max_dist = 5)"
   ]
  },
  {
   "cell_type": "code",
   "execution_count": null,
   "metadata": {},
   "outputs": [],
   "source": [
    "a = find_closest(\"maria's mexican restaurant & bakery\")\n",
    "a[a[a.columns[-1]] <=5]"
   ]
  },
  {
   "cell_type": "code",
   "execution_count": null,
   "metadata": {},
   "outputs": [],
   "source": [
    "ex.sort_values(by = ['has_dessert',ex.columns[-1]], ascending = [False, True])"
   ]
  },
  {
   "cell_type": "code",
   "execution_count": null,
   "metadata": {},
   "outputs": [],
   "source": [
    "find_closest(\"maria's mexican restaurant & bakery\", max_dist = 5)"
   ]
  },
  {
   "cell_type": "code",
   "execution_count": null,
   "metadata": {},
   "outputs": [],
   "source": [
    "def best_dessert("
   ]
  },
  {
   "cell_type": "code",
   "execution_count": null,
   "metadata": {},
   "outputs": [],
   "source": [
    "X_dessert = clean_df.copy()\n",
    "X_dessert['has_dessert'] = X_dessert['dessert']+X_dessert['Desserts']+X_dessert['BubbleTea']+X_dessert['Cafes']+X_dessert['Creperies']+X_dessert['IceCream&FrozenYogurt']+X_dessert['Waffles']\n",
    "X_dessert = X_dessert[X_dessert['has_dessert'] != 0]\n",
    "X_dessert.shape\n"
   ]
  },
  {
   "cell_type": "code",
   "execution_count": null,
   "metadata": {},
   "outputs": [],
   "source": [
    "X_bar = clean_df.copy()"
   ]
  },
  {
   "cell_type": "code",
   "execution_count": null,
   "metadata": {},
   "outputs": [],
   "source": [
    "for col in X_bar.columns:\n",
    "    print(col)"
   ]
  },
  {
   "cell_type": "code",
   "execution_count": null,
   "metadata": {},
   "outputs": [],
   "source": [
    "bar_indice = ['Alcohol', 'latenight', 'Bars', 'Nightlife', 'CocktailBars', 'WineBars','Venues&EventSpaces',\n",
    "             'DiveBars','Gastropubs','Breweries','Brasseries','BeerBar','Lounges','Karaoke','MusicVenues',\n",
    "             'divey','loud','very_loud']\n",
    "X_bar['has_bar'] = X_bar.apply(sum, axis = 1, )\n"
   ]
  },
  {
   "cell_type": "code",
   "execution_count": null,
   "metadata": {},
   "outputs": [],
   "source": [
    "X_bar = X_bar[X_bar['has_bar'] == 1]\n",
    "X_bar.shape\n"
   ]
  },
  {
   "cell_type": "code",
   "execution_count": null,
   "metadata": {},
   "outputs": [],
   "source": [
    "from mpl_toolkits.mplot3d import Axes3D "
   ]
  },
  {
   "cell_type": "code",
   "execution_count": null,
   "metadata": {},
   "outputs": [],
   "source": [
    "fig = plt.figure()\n",
    "ax = fig.add_subplot(111, projection='3d')\n",
    "xs = X_dessert.stars\n",
    "ys = X_dessert.has_dessert\n",
    "zs = X_dessert.review_count\n",
    "ax.scatter(xs, ys, zs, )"
   ]
  },
  {
   "cell_type": "markdown",
   "metadata": {},
   "source": [
    "# Collaborative Filtering"
   ]
  },
  {
   "cell_type": "code",
   "execution_count": 10,
   "metadata": {},
   "outputs": [],
   "source": [
    "user_to_user = pd.read_csv(\"DataToRun.csv\")"
   ]
  },
  {
   "cell_type": "code",
   "execution_count": 176,
   "metadata": {},
   "outputs": [
    {
     "data": {
      "text/plain": [
       "Unnamed: 0                          1800\n",
       "# 1 Nails                              2\n",
       "#YelpQueens Autumn’s Up                1\n",
       "#YelpsThrowBackThursday                1\n",
       "#getfried fry cafe                     1\n",
       "$10 DRESS                              1\n",
       "$2 Shoes                               1\n",
       "$99 drain rooter                       1\n",
       "& Waffles                              2\n",
       "&pizza                                 2\n",
       "-8℃ Ice Cream                          1\n",
       "1 800 Flowers                          1\n",
       "1 Brother’s Pizza                      1\n",
       "1 Hawaiian Barbecue                    1\n",
       "1 Way Installation                     1\n",
       "1-800-Flowers                          1\n",
       "1-800-GOT-JUNK? LA County East         1\n",
       "1-800-GOT-JUNK? Las Vegas              1\n",
       "10 Barrel Brewing - Denver             1\n",
       "10 Barrel Brewing - Portland           1\n",
       "10 Body Type Acupuncture Clinic        1\n",
       "10 Speed Coffee-Calabasas              1\n",
       "100 Degree Hot Pot                     2\n",
       "100 North Kitchen And Lounge           1\n",
       "100 Sails Restaurant & Bar             3\n",
       "100% fensanity                         1\n",
       "1000 Degrees Neapolitan Pizzeria       1\n",
       "100s Seafood Grill Buffet              2\n",
       "101 Baltimore                          1\n",
       "101 Korean BBQ + Sushi                 1\n",
       "                                    ... \n",
       "uBreakiFix                             2\n",
       "uBreakiFix Summerlin                   3\n",
       "uGOgelato                              1\n",
       "unPhogettable                          1\n",
       "velofix                                1\n",
       "wagamama - murray hill                 1\n",
       "wagamama - nomad                       1\n",
       "wagamama - prudential                  1\n",
       "waterfront bar & terrace               1\n",
       "what’s Crepe                           6\n",
       "zuma                                   7\n",
       "À La Minute                            1\n",
       "Çiya Sofrası                           1\n",
       "È Tutto Qua                            1\n",
       "Élephante                              1\n",
       "Élevage                                1\n",
       "Ô Gourmet French Café & Bakery         1\n",
       "Único Hotel                            1\n",
       "é by José Andrés                       3\n",
       "‘Ai ‘Ono                               1\n",
       "‘ONO Poké Bar                          1\n",
       "いざかや おせん- IZAKAYA OSEN                 1\n",
       "シーサイドルーム恵比寿                            1\n",
       "呂仔記                                    1\n",
       "圓環邊蚵仔煎                                 1\n",
       "德成巷仔                                   1\n",
       "民聲冰室                                   1\n",
       "真川味                                    1\n",
       "重庆小面 Best Noodle House                 1\n",
       "驥園川菜餐廳                                 1\n",
       "Length: 28351, dtype: int64"
      ]
     },
     "execution_count": 176,
     "metadata": {},
     "output_type": "execute_result"
    }
   ],
   "source": [
    "user_to_user.count()"
   ]
  },
  {
   "cell_type": "code",
   "execution_count": 264,
   "metadata": {
    "scrolled": true
   },
   "outputs": [],
   "source": [
    "y = list([x for x in list(user_to_user.columns) if (user_to_user[x].value_counts().sum() > 2)])\n",
    "\n",
    "user_df = user_to_user[y]"
   ]
  },
  {
   "cell_type": "code",
   "execution_count": 265,
   "metadata": {
    "scrolled": true
   },
   "outputs": [],
   "source": [
    "user_df = user_df.rename(index=str, columns={\"Unnamed: 0\": \"User_ID\"})"
   ]
  },
  {
   "cell_type": "code",
   "execution_count": 266,
   "metadata": {},
   "outputs": [
    {
     "data": {
      "text/html": [
       "<div>\n",
       "<style scoped>\n",
       "    .dataframe tbody tr th:only-of-type {\n",
       "        vertical-align: middle;\n",
       "    }\n",
       "\n",
       "    .dataframe tbody tr th {\n",
       "        vertical-align: top;\n",
       "    }\n",
       "\n",
       "    .dataframe thead th {\n",
       "        text-align: right;\n",
       "    }\n",
       "</style>\n",
       "<table border=\"1\" class=\"dataframe\">\n",
       "  <thead>\n",
       "    <tr style=\"text-align: right;\">\n",
       "      <th></th>\n",
       "      <th>User_ID</th>\n",
       "      <th>100 Sails Restaurant &amp; Bar</th>\n",
       "      <th>10e</th>\n",
       "      <th>16 A Handcrafted Experience</th>\n",
       "      <th>168 Market</th>\n",
       "      <th>4ur Nails &amp; Spa</th>\n",
       "      <th>595 Craft And Kitchen</th>\n",
       "      <th>7 Leaves Cafe</th>\n",
       "      <th>7-Eleven</th>\n",
       "      <th>702 Nail Lounge</th>\n",
       "      <th>...</th>\n",
       "      <th>Zion Canyon Brewpub</th>\n",
       "      <th>Zion National Park</th>\n",
       "      <th>bin 702</th>\n",
       "      <th>friend_count</th>\n",
       "      <th>review_count</th>\n",
       "      <th>ssooniestyle</th>\n",
       "      <th>uBreakiFix Summerlin</th>\n",
       "      <th>what’s Crepe</th>\n",
       "      <th>zuma</th>\n",
       "      <th>é by José Andrés</th>\n",
       "    </tr>\n",
       "  </thead>\n",
       "  <tbody>\n",
       "    <tr>\n",
       "      <th>0</th>\n",
       "      <td>9j2EDEvHL6m6vzITBUlvvA</td>\n",
       "      <td>NaN</td>\n",
       "      <td>NaN</td>\n",
       "      <td>NaN</td>\n",
       "      <td>NaN</td>\n",
       "      <td>NaN</td>\n",
       "      <td>NaN</td>\n",
       "      <td>NaN</td>\n",
       "      <td>NaN</td>\n",
       "      <td>NaN</td>\n",
       "      <td>...</td>\n",
       "      <td>NaN</td>\n",
       "      <td>NaN</td>\n",
       "      <td>NaN</td>\n",
       "      <td>56</td>\n",
       "      <td>52.0</td>\n",
       "      <td>NaN</td>\n",
       "      <td>NaN</td>\n",
       "      <td>NaN</td>\n",
       "      <td>NaN</td>\n",
       "      <td>NaN</td>\n",
       "    </tr>\n",
       "    <tr>\n",
       "      <th>1</th>\n",
       "      <td>X2Cf71Ab7EM9Yz4qJnAfug</td>\n",
       "      <td>NaN</td>\n",
       "      <td>NaN</td>\n",
       "      <td>NaN</td>\n",
       "      <td>NaN</td>\n",
       "      <td>NaN</td>\n",
       "      <td>NaN</td>\n",
       "      <td>NaN</td>\n",
       "      <td>NaN</td>\n",
       "      <td>NaN</td>\n",
       "      <td>...</td>\n",
       "      <td>NaN</td>\n",
       "      <td>NaN</td>\n",
       "      <td>NaN</td>\n",
       "      <td>1432</td>\n",
       "      <td>166.0</td>\n",
       "      <td>NaN</td>\n",
       "      <td>NaN</td>\n",
       "      <td>NaN</td>\n",
       "      <td>NaN</td>\n",
       "      <td>NaN</td>\n",
       "    </tr>\n",
       "    <tr>\n",
       "      <th>2</th>\n",
       "      <td>QluW09sYdJb4NBKutSeh1Q</td>\n",
       "      <td>NaN</td>\n",
       "      <td>NaN</td>\n",
       "      <td>NaN</td>\n",
       "      <td>NaN</td>\n",
       "      <td>NaN</td>\n",
       "      <td>NaN</td>\n",
       "      <td>NaN</td>\n",
       "      <td>NaN</td>\n",
       "      <td>NaN</td>\n",
       "      <td>...</td>\n",
       "      <td>NaN</td>\n",
       "      <td>NaN</td>\n",
       "      <td>NaN</td>\n",
       "      <td>9</td>\n",
       "      <td>206.0</td>\n",
       "      <td>NaN</td>\n",
       "      <td>NaN</td>\n",
       "      <td>NaN</td>\n",
       "      <td>NaN</td>\n",
       "      <td>NaN</td>\n",
       "    </tr>\n",
       "    <tr>\n",
       "      <th>3</th>\n",
       "      <td>Z9uMICXDQeEX4RRM6xE75A</td>\n",
       "      <td>NaN</td>\n",
       "      <td>NaN</td>\n",
       "      <td>NaN</td>\n",
       "      <td>NaN</td>\n",
       "      <td>NaN</td>\n",
       "      <td>NaN</td>\n",
       "      <td>NaN</td>\n",
       "      <td>NaN</td>\n",
       "      <td>NaN</td>\n",
       "      <td>...</td>\n",
       "      <td>NaN</td>\n",
       "      <td>NaN</td>\n",
       "      <td>NaN</td>\n",
       "      <td>5</td>\n",
       "      <td>26.0</td>\n",
       "      <td>NaN</td>\n",
       "      <td>NaN</td>\n",
       "      <td>NaN</td>\n",
       "      <td>NaN</td>\n",
       "      <td>NaN</td>\n",
       "    </tr>\n",
       "    <tr>\n",
       "      <th>4</th>\n",
       "      <td>xtZ5JHQARr2fF9yEhX_21g</td>\n",
       "      <td>NaN</td>\n",
       "      <td>NaN</td>\n",
       "      <td>NaN</td>\n",
       "      <td>NaN</td>\n",
       "      <td>NaN</td>\n",
       "      <td>NaN</td>\n",
       "      <td>NaN</td>\n",
       "      <td>NaN</td>\n",
       "      <td>NaN</td>\n",
       "      <td>...</td>\n",
       "      <td>NaN</td>\n",
       "      <td>NaN</td>\n",
       "      <td>NaN</td>\n",
       "      <td>6</td>\n",
       "      <td>10.0</td>\n",
       "      <td>NaN</td>\n",
       "      <td>NaN</td>\n",
       "      <td>NaN</td>\n",
       "      <td>NaN</td>\n",
       "      <td>NaN</td>\n",
       "    </tr>\n",
       "  </tbody>\n",
       "</table>\n",
       "<p>5 rows × 2544 columns</p>\n",
       "</div>"
      ],
      "text/plain": [
       "                  User_ID  100 Sails Restaurant & Bar  10e  \\\n",
       "0  9j2EDEvHL6m6vzITBUlvvA                         NaN  NaN   \n",
       "1  X2Cf71Ab7EM9Yz4qJnAfug                         NaN  NaN   \n",
       "2  QluW09sYdJb4NBKutSeh1Q                         NaN  NaN   \n",
       "3  Z9uMICXDQeEX4RRM6xE75A                         NaN  NaN   \n",
       "4  xtZ5JHQARr2fF9yEhX_21g                         NaN  NaN   \n",
       "\n",
       "   16 A Handcrafted Experience  168 Market  4ur Nails & Spa  \\\n",
       "0                          NaN         NaN              NaN   \n",
       "1                          NaN         NaN              NaN   \n",
       "2                          NaN         NaN              NaN   \n",
       "3                          NaN         NaN              NaN   \n",
       "4                          NaN         NaN              NaN   \n",
       "\n",
       "   595 Craft And Kitchen  7 Leaves Cafe  7-Eleven  702 Nail Lounge  \\\n",
       "0                    NaN            NaN       NaN              NaN   \n",
       "1                    NaN            NaN       NaN              NaN   \n",
       "2                    NaN            NaN       NaN              NaN   \n",
       "3                    NaN            NaN       NaN              NaN   \n",
       "4                    NaN            NaN       NaN              NaN   \n",
       "\n",
       "         ...         Zion Canyon Brewpub  Zion National Park  bin 702  \\\n",
       "0        ...                         NaN                 NaN      NaN   \n",
       "1        ...                         NaN                 NaN      NaN   \n",
       "2        ...                         NaN                 NaN      NaN   \n",
       "3        ...                         NaN                 NaN      NaN   \n",
       "4        ...                         NaN                 NaN      NaN   \n",
       "\n",
       "   friend_count  review_count  ssooniestyle  uBreakiFix Summerlin  \\\n",
       "0            56          52.0           NaN                   NaN   \n",
       "1          1432         166.0           NaN                   NaN   \n",
       "2             9         206.0           NaN                   NaN   \n",
       "3             5          26.0           NaN                   NaN   \n",
       "4             6          10.0           NaN                   NaN   \n",
       "\n",
       "   what’s Crepe  zuma  é by José Andrés  \n",
       "0           NaN   NaN               NaN  \n",
       "1           NaN   NaN               NaN  \n",
       "2           NaN   NaN               NaN  \n",
       "3           NaN   NaN               NaN  \n",
       "4           NaN   NaN               NaN  \n",
       "\n",
       "[5 rows x 2544 columns]"
      ]
     },
     "execution_count": 266,
     "metadata": {},
     "output_type": "execute_result"
    }
   ],
   "source": [
    "user_df.head()"
   ]
  },
  {
   "cell_type": "code",
   "execution_count": 267,
   "metadata": {},
   "outputs": [],
   "source": [
    "X = user_df.drop([\"review_count\", \"friend_count\"], axis=1)"
   ]
  },
  {
   "cell_type": "code",
   "execution_count": 268,
   "metadata": {
    "scrolled": true
   },
   "outputs": [],
   "source": [
    "X = X.set_index(\"User_ID\")\n"
   ]
  },
  {
   "cell_type": "code",
   "execution_count": 269,
   "metadata": {},
   "outputs": [
    {
     "data": {
      "text/html": [
       "<div>\n",
       "<style scoped>\n",
       "    .dataframe tbody tr th:only-of-type {\n",
       "        vertical-align: middle;\n",
       "    }\n",
       "\n",
       "    .dataframe tbody tr th {\n",
       "        vertical-align: top;\n",
       "    }\n",
       "\n",
       "    .dataframe thead th {\n",
       "        text-align: right;\n",
       "    }\n",
       "</style>\n",
       "<table border=\"1\" class=\"dataframe\">\n",
       "  <thead>\n",
       "    <tr style=\"text-align: right;\">\n",
       "      <th></th>\n",
       "      <th>100 Sails Restaurant &amp; Bar</th>\n",
       "      <th>10e</th>\n",
       "      <th>16 A Handcrafted Experience</th>\n",
       "      <th>168 Market</th>\n",
       "      <th>4ur Nails &amp; Spa</th>\n",
       "      <th>595 Craft And Kitchen</th>\n",
       "      <th>7 Leaves Cafe</th>\n",
       "      <th>7-Eleven</th>\n",
       "      <th>702 Nail Lounge</th>\n",
       "      <th>777 Towing</th>\n",
       "      <th>...</th>\n",
       "      <th>Zero Degrees</th>\n",
       "      <th>Zest - Bistro &amp; Bar</th>\n",
       "      <th>Zion Canyon Brewpub</th>\n",
       "      <th>Zion National Park</th>\n",
       "      <th>bin 702</th>\n",
       "      <th>ssooniestyle</th>\n",
       "      <th>uBreakiFix Summerlin</th>\n",
       "      <th>what’s Crepe</th>\n",
       "      <th>zuma</th>\n",
       "      <th>é by José Andrés</th>\n",
       "    </tr>\n",
       "    <tr>\n",
       "      <th>User_ID</th>\n",
       "      <th></th>\n",
       "      <th></th>\n",
       "      <th></th>\n",
       "      <th></th>\n",
       "      <th></th>\n",
       "      <th></th>\n",
       "      <th></th>\n",
       "      <th></th>\n",
       "      <th></th>\n",
       "      <th></th>\n",
       "      <th></th>\n",
       "      <th></th>\n",
       "      <th></th>\n",
       "      <th></th>\n",
       "      <th></th>\n",
       "      <th></th>\n",
       "      <th></th>\n",
       "      <th></th>\n",
       "      <th></th>\n",
       "      <th></th>\n",
       "      <th></th>\n",
       "    </tr>\n",
       "  </thead>\n",
       "  <tbody>\n",
       "    <tr>\n",
       "      <th>9j2EDEvHL6m6vzITBUlvvA</th>\n",
       "      <td>NaN</td>\n",
       "      <td>NaN</td>\n",
       "      <td>NaN</td>\n",
       "      <td>NaN</td>\n",
       "      <td>NaN</td>\n",
       "      <td>NaN</td>\n",
       "      <td>NaN</td>\n",
       "      <td>NaN</td>\n",
       "      <td>NaN</td>\n",
       "      <td>NaN</td>\n",
       "      <td>...</td>\n",
       "      <td>NaN</td>\n",
       "      <td>NaN</td>\n",
       "      <td>NaN</td>\n",
       "      <td>NaN</td>\n",
       "      <td>NaN</td>\n",
       "      <td>NaN</td>\n",
       "      <td>NaN</td>\n",
       "      <td>NaN</td>\n",
       "      <td>NaN</td>\n",
       "      <td>NaN</td>\n",
       "    </tr>\n",
       "    <tr>\n",
       "      <th>X2Cf71Ab7EM9Yz4qJnAfug</th>\n",
       "      <td>NaN</td>\n",
       "      <td>NaN</td>\n",
       "      <td>NaN</td>\n",
       "      <td>NaN</td>\n",
       "      <td>NaN</td>\n",
       "      <td>NaN</td>\n",
       "      <td>NaN</td>\n",
       "      <td>NaN</td>\n",
       "      <td>NaN</td>\n",
       "      <td>NaN</td>\n",
       "      <td>...</td>\n",
       "      <td>NaN</td>\n",
       "      <td>NaN</td>\n",
       "      <td>NaN</td>\n",
       "      <td>NaN</td>\n",
       "      <td>NaN</td>\n",
       "      <td>NaN</td>\n",
       "      <td>NaN</td>\n",
       "      <td>NaN</td>\n",
       "      <td>NaN</td>\n",
       "      <td>NaN</td>\n",
       "    </tr>\n",
       "    <tr>\n",
       "      <th>QluW09sYdJb4NBKutSeh1Q</th>\n",
       "      <td>NaN</td>\n",
       "      <td>NaN</td>\n",
       "      <td>NaN</td>\n",
       "      <td>NaN</td>\n",
       "      <td>NaN</td>\n",
       "      <td>NaN</td>\n",
       "      <td>NaN</td>\n",
       "      <td>NaN</td>\n",
       "      <td>NaN</td>\n",
       "      <td>NaN</td>\n",
       "      <td>...</td>\n",
       "      <td>NaN</td>\n",
       "      <td>NaN</td>\n",
       "      <td>NaN</td>\n",
       "      <td>NaN</td>\n",
       "      <td>NaN</td>\n",
       "      <td>NaN</td>\n",
       "      <td>NaN</td>\n",
       "      <td>NaN</td>\n",
       "      <td>NaN</td>\n",
       "      <td>NaN</td>\n",
       "    </tr>\n",
       "    <tr>\n",
       "      <th>Z9uMICXDQeEX4RRM6xE75A</th>\n",
       "      <td>NaN</td>\n",
       "      <td>NaN</td>\n",
       "      <td>NaN</td>\n",
       "      <td>NaN</td>\n",
       "      <td>NaN</td>\n",
       "      <td>NaN</td>\n",
       "      <td>NaN</td>\n",
       "      <td>NaN</td>\n",
       "      <td>NaN</td>\n",
       "      <td>NaN</td>\n",
       "      <td>...</td>\n",
       "      <td>NaN</td>\n",
       "      <td>NaN</td>\n",
       "      <td>NaN</td>\n",
       "      <td>NaN</td>\n",
       "      <td>NaN</td>\n",
       "      <td>NaN</td>\n",
       "      <td>NaN</td>\n",
       "      <td>NaN</td>\n",
       "      <td>NaN</td>\n",
       "      <td>NaN</td>\n",
       "    </tr>\n",
       "    <tr>\n",
       "      <th>xtZ5JHQARr2fF9yEhX_21g</th>\n",
       "      <td>NaN</td>\n",
       "      <td>NaN</td>\n",
       "      <td>NaN</td>\n",
       "      <td>NaN</td>\n",
       "      <td>NaN</td>\n",
       "      <td>NaN</td>\n",
       "      <td>NaN</td>\n",
       "      <td>NaN</td>\n",
       "      <td>NaN</td>\n",
       "      <td>NaN</td>\n",
       "      <td>...</td>\n",
       "      <td>NaN</td>\n",
       "      <td>NaN</td>\n",
       "      <td>NaN</td>\n",
       "      <td>NaN</td>\n",
       "      <td>NaN</td>\n",
       "      <td>NaN</td>\n",
       "      <td>NaN</td>\n",
       "      <td>NaN</td>\n",
       "      <td>NaN</td>\n",
       "      <td>NaN</td>\n",
       "    </tr>\n",
       "  </tbody>\n",
       "</table>\n",
       "<p>5 rows × 2541 columns</p>\n",
       "</div>"
      ],
      "text/plain": [
       "                        100 Sails Restaurant & Bar  10e  \\\n",
       "User_ID                                                   \n",
       "9j2EDEvHL6m6vzITBUlvvA                         NaN  NaN   \n",
       "X2Cf71Ab7EM9Yz4qJnAfug                         NaN  NaN   \n",
       "QluW09sYdJb4NBKutSeh1Q                         NaN  NaN   \n",
       "Z9uMICXDQeEX4RRM6xE75A                         NaN  NaN   \n",
       "xtZ5JHQARr2fF9yEhX_21g                         NaN  NaN   \n",
       "\n",
       "                        16 A Handcrafted Experience  168 Market  \\\n",
       "User_ID                                                           \n",
       "9j2EDEvHL6m6vzITBUlvvA                          NaN         NaN   \n",
       "X2Cf71Ab7EM9Yz4qJnAfug                          NaN         NaN   \n",
       "QluW09sYdJb4NBKutSeh1Q                          NaN         NaN   \n",
       "Z9uMICXDQeEX4RRM6xE75A                          NaN         NaN   \n",
       "xtZ5JHQARr2fF9yEhX_21g                          NaN         NaN   \n",
       "\n",
       "                        4ur Nails & Spa  595 Craft And Kitchen  7 Leaves Cafe  \\\n",
       "User_ID                                                                         \n",
       "9j2EDEvHL6m6vzITBUlvvA              NaN                    NaN            NaN   \n",
       "X2Cf71Ab7EM9Yz4qJnAfug              NaN                    NaN            NaN   \n",
       "QluW09sYdJb4NBKutSeh1Q              NaN                    NaN            NaN   \n",
       "Z9uMICXDQeEX4RRM6xE75A              NaN                    NaN            NaN   \n",
       "xtZ5JHQARr2fF9yEhX_21g              NaN                    NaN            NaN   \n",
       "\n",
       "                        7-Eleven  702 Nail Lounge  777 Towing  \\\n",
       "User_ID                                                         \n",
       "9j2EDEvHL6m6vzITBUlvvA       NaN              NaN         NaN   \n",
       "X2Cf71Ab7EM9Yz4qJnAfug       NaN              NaN         NaN   \n",
       "QluW09sYdJb4NBKutSeh1Q       NaN              NaN         NaN   \n",
       "Z9uMICXDQeEX4RRM6xE75A       NaN              NaN         NaN   \n",
       "xtZ5JHQARr2fF9yEhX_21g       NaN              NaN         NaN   \n",
       "\n",
       "                              ...         Zero Degrees  Zest - Bistro & Bar  \\\n",
       "User_ID                       ...                                             \n",
       "9j2EDEvHL6m6vzITBUlvvA        ...                  NaN                  NaN   \n",
       "X2Cf71Ab7EM9Yz4qJnAfug        ...                  NaN                  NaN   \n",
       "QluW09sYdJb4NBKutSeh1Q        ...                  NaN                  NaN   \n",
       "Z9uMICXDQeEX4RRM6xE75A        ...                  NaN                  NaN   \n",
       "xtZ5JHQARr2fF9yEhX_21g        ...                  NaN                  NaN   \n",
       "\n",
       "                        Zion Canyon Brewpub  Zion National Park  bin 702  \\\n",
       "User_ID                                                                    \n",
       "9j2EDEvHL6m6vzITBUlvvA                  NaN                 NaN      NaN   \n",
       "X2Cf71Ab7EM9Yz4qJnAfug                  NaN                 NaN      NaN   \n",
       "QluW09sYdJb4NBKutSeh1Q                  NaN                 NaN      NaN   \n",
       "Z9uMICXDQeEX4RRM6xE75A                  NaN                 NaN      NaN   \n",
       "xtZ5JHQARr2fF9yEhX_21g                  NaN                 NaN      NaN   \n",
       "\n",
       "                        ssooniestyle  uBreakiFix Summerlin  what’s Crepe  \\\n",
       "User_ID                                                                    \n",
       "9j2EDEvHL6m6vzITBUlvvA           NaN                   NaN           NaN   \n",
       "X2Cf71Ab7EM9Yz4qJnAfug           NaN                   NaN           NaN   \n",
       "QluW09sYdJb4NBKutSeh1Q           NaN                   NaN           NaN   \n",
       "Z9uMICXDQeEX4RRM6xE75A           NaN                   NaN           NaN   \n",
       "xtZ5JHQARr2fF9yEhX_21g           NaN                   NaN           NaN   \n",
       "\n",
       "                        zuma  é by José Andrés  \n",
       "User_ID                                         \n",
       "9j2EDEvHL6m6vzITBUlvvA   NaN               NaN  \n",
       "X2Cf71Ab7EM9Yz4qJnAfug   NaN               NaN  \n",
       "QluW09sYdJb4NBKutSeh1Q   NaN               NaN  \n",
       "Z9uMICXDQeEX4RRM6xE75A   NaN               NaN  \n",
       "xtZ5JHQARr2fF9yEhX_21g   NaN               NaN  \n",
       "\n",
       "[5 rows x 2541 columns]"
      ]
     },
     "execution_count": 269,
     "metadata": {},
     "output_type": "execute_result"
    }
   ],
   "source": [
    "X.head()"
   ]
  },
  {
   "cell_type": "code",
   "execution_count": 270,
   "metadata": {
    "scrolled": false
   },
   "outputs": [
    {
     "data": {
      "text/html": [
       "<div>\n",
       "<style scoped>\n",
       "    .dataframe tbody tr th:only-of-type {\n",
       "        vertical-align: middle;\n",
       "    }\n",
       "\n",
       "    .dataframe tbody tr th {\n",
       "        vertical-align: top;\n",
       "    }\n",
       "\n",
       "    .dataframe thead th {\n",
       "        text-align: right;\n",
       "    }\n",
       "</style>\n",
       "<table border=\"1\" class=\"dataframe\">\n",
       "  <thead>\n",
       "    <tr style=\"text-align: right;\">\n",
       "      <th></th>\n",
       "      <th>100 Sails Restaurant &amp; Bar</th>\n",
       "      <th>10e</th>\n",
       "      <th>16 A Handcrafted Experience</th>\n",
       "      <th>168 Market</th>\n",
       "      <th>4ur Nails &amp; Spa</th>\n",
       "      <th>595 Craft And Kitchen</th>\n",
       "      <th>7 Leaves Cafe</th>\n",
       "      <th>7-Eleven</th>\n",
       "      <th>702 Nail Lounge</th>\n",
       "      <th>777 Towing</th>\n",
       "      <th>...</th>\n",
       "      <th>Zero Degrees</th>\n",
       "      <th>Zest - Bistro &amp; Bar</th>\n",
       "      <th>Zion Canyon Brewpub</th>\n",
       "      <th>Zion National Park</th>\n",
       "      <th>bin 702</th>\n",
       "      <th>ssooniestyle</th>\n",
       "      <th>uBreakiFix Summerlin</th>\n",
       "      <th>what’s Crepe</th>\n",
       "      <th>zuma</th>\n",
       "      <th>é by José Andrés</th>\n",
       "    </tr>\n",
       "    <tr>\n",
       "      <th>User_ID</th>\n",
       "      <th></th>\n",
       "      <th></th>\n",
       "      <th></th>\n",
       "      <th></th>\n",
       "      <th></th>\n",
       "      <th></th>\n",
       "      <th></th>\n",
       "      <th></th>\n",
       "      <th></th>\n",
       "      <th></th>\n",
       "      <th></th>\n",
       "      <th></th>\n",
       "      <th></th>\n",
       "      <th></th>\n",
       "      <th></th>\n",
       "      <th></th>\n",
       "      <th></th>\n",
       "      <th></th>\n",
       "      <th></th>\n",
       "      <th></th>\n",
       "      <th></th>\n",
       "    </tr>\n",
       "  </thead>\n",
       "  <tbody>\n",
       "    <tr>\n",
       "      <th>9j2EDEvHL6m6vzITBUlvvA</th>\n",
       "      <td>0.0</td>\n",
       "      <td>0.0</td>\n",
       "      <td>0.0</td>\n",
       "      <td>0.0</td>\n",
       "      <td>0.0</td>\n",
       "      <td>0.0</td>\n",
       "      <td>0.0</td>\n",
       "      <td>0.0</td>\n",
       "      <td>0.0</td>\n",
       "      <td>0.0</td>\n",
       "      <td>...</td>\n",
       "      <td>0.0</td>\n",
       "      <td>0.0</td>\n",
       "      <td>0.0</td>\n",
       "      <td>0.0</td>\n",
       "      <td>0.0</td>\n",
       "      <td>0.0</td>\n",
       "      <td>0.0</td>\n",
       "      <td>0.0</td>\n",
       "      <td>0.0</td>\n",
       "      <td>0.0</td>\n",
       "    </tr>\n",
       "    <tr>\n",
       "      <th>X2Cf71Ab7EM9Yz4qJnAfug</th>\n",
       "      <td>0.0</td>\n",
       "      <td>0.0</td>\n",
       "      <td>0.0</td>\n",
       "      <td>0.0</td>\n",
       "      <td>0.0</td>\n",
       "      <td>0.0</td>\n",
       "      <td>0.0</td>\n",
       "      <td>0.0</td>\n",
       "      <td>0.0</td>\n",
       "      <td>0.0</td>\n",
       "      <td>...</td>\n",
       "      <td>0.0</td>\n",
       "      <td>0.0</td>\n",
       "      <td>0.0</td>\n",
       "      <td>0.0</td>\n",
       "      <td>0.0</td>\n",
       "      <td>0.0</td>\n",
       "      <td>0.0</td>\n",
       "      <td>0.0</td>\n",
       "      <td>0.0</td>\n",
       "      <td>0.0</td>\n",
       "    </tr>\n",
       "    <tr>\n",
       "      <th>QluW09sYdJb4NBKutSeh1Q</th>\n",
       "      <td>0.0</td>\n",
       "      <td>0.0</td>\n",
       "      <td>0.0</td>\n",
       "      <td>0.0</td>\n",
       "      <td>0.0</td>\n",
       "      <td>0.0</td>\n",
       "      <td>0.0</td>\n",
       "      <td>0.0</td>\n",
       "      <td>0.0</td>\n",
       "      <td>0.0</td>\n",
       "      <td>...</td>\n",
       "      <td>0.0</td>\n",
       "      <td>0.0</td>\n",
       "      <td>0.0</td>\n",
       "      <td>0.0</td>\n",
       "      <td>0.0</td>\n",
       "      <td>0.0</td>\n",
       "      <td>0.0</td>\n",
       "      <td>0.0</td>\n",
       "      <td>0.0</td>\n",
       "      <td>0.0</td>\n",
       "    </tr>\n",
       "    <tr>\n",
       "      <th>Z9uMICXDQeEX4RRM6xE75A</th>\n",
       "      <td>0.0</td>\n",
       "      <td>0.0</td>\n",
       "      <td>0.0</td>\n",
       "      <td>0.0</td>\n",
       "      <td>0.0</td>\n",
       "      <td>0.0</td>\n",
       "      <td>0.0</td>\n",
       "      <td>0.0</td>\n",
       "      <td>0.0</td>\n",
       "      <td>0.0</td>\n",
       "      <td>...</td>\n",
       "      <td>0.0</td>\n",
       "      <td>0.0</td>\n",
       "      <td>0.0</td>\n",
       "      <td>0.0</td>\n",
       "      <td>0.0</td>\n",
       "      <td>0.0</td>\n",
       "      <td>0.0</td>\n",
       "      <td>0.0</td>\n",
       "      <td>0.0</td>\n",
       "      <td>0.0</td>\n",
       "    </tr>\n",
       "    <tr>\n",
       "      <th>xtZ5JHQARr2fF9yEhX_21g</th>\n",
       "      <td>0.0</td>\n",
       "      <td>0.0</td>\n",
       "      <td>0.0</td>\n",
       "      <td>0.0</td>\n",
       "      <td>0.0</td>\n",
       "      <td>0.0</td>\n",
       "      <td>0.0</td>\n",
       "      <td>0.0</td>\n",
       "      <td>0.0</td>\n",
       "      <td>0.0</td>\n",
       "      <td>...</td>\n",
       "      <td>0.0</td>\n",
       "      <td>0.0</td>\n",
       "      <td>0.0</td>\n",
       "      <td>0.0</td>\n",
       "      <td>0.0</td>\n",
       "      <td>0.0</td>\n",
       "      <td>0.0</td>\n",
       "      <td>0.0</td>\n",
       "      <td>0.0</td>\n",
       "      <td>0.0</td>\n",
       "    </tr>\n",
       "  </tbody>\n",
       "</table>\n",
       "<p>5 rows × 2541 columns</p>\n",
       "</div>"
      ],
      "text/plain": [
       "                        100 Sails Restaurant & Bar  10e  \\\n",
       "User_ID                                                   \n",
       "9j2EDEvHL6m6vzITBUlvvA                         0.0  0.0   \n",
       "X2Cf71Ab7EM9Yz4qJnAfug                         0.0  0.0   \n",
       "QluW09sYdJb4NBKutSeh1Q                         0.0  0.0   \n",
       "Z9uMICXDQeEX4RRM6xE75A                         0.0  0.0   \n",
       "xtZ5JHQARr2fF9yEhX_21g                         0.0  0.0   \n",
       "\n",
       "                        16 A Handcrafted Experience  168 Market  \\\n",
       "User_ID                                                           \n",
       "9j2EDEvHL6m6vzITBUlvvA                          0.0         0.0   \n",
       "X2Cf71Ab7EM9Yz4qJnAfug                          0.0         0.0   \n",
       "QluW09sYdJb4NBKutSeh1Q                          0.0         0.0   \n",
       "Z9uMICXDQeEX4RRM6xE75A                          0.0         0.0   \n",
       "xtZ5JHQARr2fF9yEhX_21g                          0.0         0.0   \n",
       "\n",
       "                        4ur Nails & Spa  595 Craft And Kitchen  7 Leaves Cafe  \\\n",
       "User_ID                                                                         \n",
       "9j2EDEvHL6m6vzITBUlvvA              0.0                    0.0            0.0   \n",
       "X2Cf71Ab7EM9Yz4qJnAfug              0.0                    0.0            0.0   \n",
       "QluW09sYdJb4NBKutSeh1Q              0.0                    0.0            0.0   \n",
       "Z9uMICXDQeEX4RRM6xE75A              0.0                    0.0            0.0   \n",
       "xtZ5JHQARr2fF9yEhX_21g              0.0                    0.0            0.0   \n",
       "\n",
       "                        7-Eleven  702 Nail Lounge  777 Towing  \\\n",
       "User_ID                                                         \n",
       "9j2EDEvHL6m6vzITBUlvvA       0.0              0.0         0.0   \n",
       "X2Cf71Ab7EM9Yz4qJnAfug       0.0              0.0         0.0   \n",
       "QluW09sYdJb4NBKutSeh1Q       0.0              0.0         0.0   \n",
       "Z9uMICXDQeEX4RRM6xE75A       0.0              0.0         0.0   \n",
       "xtZ5JHQARr2fF9yEhX_21g       0.0              0.0         0.0   \n",
       "\n",
       "                              ...         Zero Degrees  Zest - Bistro & Bar  \\\n",
       "User_ID                       ...                                             \n",
       "9j2EDEvHL6m6vzITBUlvvA        ...                  0.0                  0.0   \n",
       "X2Cf71Ab7EM9Yz4qJnAfug        ...                  0.0                  0.0   \n",
       "QluW09sYdJb4NBKutSeh1Q        ...                  0.0                  0.0   \n",
       "Z9uMICXDQeEX4RRM6xE75A        ...                  0.0                  0.0   \n",
       "xtZ5JHQARr2fF9yEhX_21g        ...                  0.0                  0.0   \n",
       "\n",
       "                        Zion Canyon Brewpub  Zion National Park  bin 702  \\\n",
       "User_ID                                                                    \n",
       "9j2EDEvHL6m6vzITBUlvvA                  0.0                 0.0      0.0   \n",
       "X2Cf71Ab7EM9Yz4qJnAfug                  0.0                 0.0      0.0   \n",
       "QluW09sYdJb4NBKutSeh1Q                  0.0                 0.0      0.0   \n",
       "Z9uMICXDQeEX4RRM6xE75A                  0.0                 0.0      0.0   \n",
       "xtZ5JHQARr2fF9yEhX_21g                  0.0                 0.0      0.0   \n",
       "\n",
       "                        ssooniestyle  uBreakiFix Summerlin  what’s Crepe  \\\n",
       "User_ID                                                                    \n",
       "9j2EDEvHL6m6vzITBUlvvA           0.0                   0.0           0.0   \n",
       "X2Cf71Ab7EM9Yz4qJnAfug           0.0                   0.0           0.0   \n",
       "QluW09sYdJb4NBKutSeh1Q           0.0                   0.0           0.0   \n",
       "Z9uMICXDQeEX4RRM6xE75A           0.0                   0.0           0.0   \n",
       "xtZ5JHQARr2fF9yEhX_21g           0.0                   0.0           0.0   \n",
       "\n",
       "                        zuma  é by José Andrés  \n",
       "User_ID                                         \n",
       "9j2EDEvHL6m6vzITBUlvvA   0.0               0.0  \n",
       "X2Cf71Ab7EM9Yz4qJnAfug   0.0               0.0  \n",
       "QluW09sYdJb4NBKutSeh1Q   0.0               0.0  \n",
       "Z9uMICXDQeEX4RRM6xE75A   0.0               0.0  \n",
       "xtZ5JHQARr2fF9yEhX_21g   0.0               0.0  \n",
       "\n",
       "[5 rows x 2541 columns]"
      ]
     },
     "execution_count": 270,
     "metadata": {},
     "output_type": "execute_result"
    }
   ],
   "source": [
    "A = X.copy()\n",
    "A = A.fillna(0)\n",
    "A.head()"
   ]
  },
  {
   "cell_type": "code",
   "execution_count": 274,
   "metadata": {},
   "outputs": [
    {
     "data": {
      "text/plain": [
       "(1508, 2541)"
      ]
     },
     "execution_count": 274,
     "metadata": {},
     "output_type": "execute_result"
    }
   ],
   "source": [
    "B.shape"
   ]
  },
  {
   "cell_type": "code",
   "execution_count": 273,
   "metadata": {},
   "outputs": [],
   "source": [
    "drop = list([x for x in list((A.T).columns) if (A.T[x].sum() > 9)])\n",
    "\n",
    "B = A.T[drop].T"
   ]
  },
  {
   "cell_type": "code",
   "execution_count": 275,
   "metadata": {},
   "outputs": [],
   "source": [
    "UID = pd.DataFrame(B.index)"
   ]
  },
  {
   "cell_type": "code",
   "execution_count": 276,
   "metadata": {
    "scrolled": true
   },
   "outputs": [
    {
     "data": {
      "text/html": [
       "<div>\n",
       "<style scoped>\n",
       "    .dataframe tbody tr th:only-of-type {\n",
       "        vertical-align: middle;\n",
       "    }\n",
       "\n",
       "    .dataframe tbody tr th {\n",
       "        vertical-align: top;\n",
       "    }\n",
       "\n",
       "    .dataframe thead th {\n",
       "        text-align: right;\n",
       "    }\n",
       "</style>\n",
       "<table border=\"1\" class=\"dataframe\">\n",
       "  <thead>\n",
       "    <tr style=\"text-align: right;\">\n",
       "      <th></th>\n",
       "      <th>User_ID</th>\n",
       "    </tr>\n",
       "  </thead>\n",
       "  <tbody>\n",
       "    <tr>\n",
       "      <th>0</th>\n",
       "      <td>9j2EDEvHL6m6vzITBUlvvA</td>\n",
       "    </tr>\n",
       "    <tr>\n",
       "      <th>1</th>\n",
       "      <td>X2Cf71Ab7EM9Yz4qJnAfug</td>\n",
       "    </tr>\n",
       "    <tr>\n",
       "      <th>2</th>\n",
       "      <td>QluW09sYdJb4NBKutSeh1Q</td>\n",
       "    </tr>\n",
       "    <tr>\n",
       "      <th>3</th>\n",
       "      <td>xtZ5JHQARr2fF9yEhX_21g</td>\n",
       "    </tr>\n",
       "    <tr>\n",
       "      <th>4</th>\n",
       "      <td>uaFOvyGPRvSETSS6Lk8-5A</td>\n",
       "    </tr>\n",
       "    <tr>\n",
       "      <th>5</th>\n",
       "      <td>pa8zvcFxnj6jFtywlxKf_g</td>\n",
       "    </tr>\n",
       "    <tr>\n",
       "      <th>6</th>\n",
       "      <td>LH5TWnLrS5-V3_ORAV2ImA</td>\n",
       "    </tr>\n",
       "    <tr>\n",
       "      <th>7</th>\n",
       "      <td>ZJYqaNXVTayu8oFIGC9D5Q</td>\n",
       "    </tr>\n",
       "    <tr>\n",
       "      <th>8</th>\n",
       "      <td>AQaDEFPvOpT9gYRb2MaR_g</td>\n",
       "    </tr>\n",
       "    <tr>\n",
       "      <th>9</th>\n",
       "      <td>AXN85O1z1qSpuBGYsr3b0A</td>\n",
       "    </tr>\n",
       "    <tr>\n",
       "      <th>10</th>\n",
       "      <td>Kr-nF7n17b2N3aFRcgKAJA</td>\n",
       "    </tr>\n",
       "    <tr>\n",
       "      <th>11</th>\n",
       "      <td>NrpzAH3EoNhWUR8OysUhBQ</td>\n",
       "    </tr>\n",
       "    <tr>\n",
       "      <th>12</th>\n",
       "      <td>kt12bkp6gUihKMiEFB2t7g</td>\n",
       "    </tr>\n",
       "    <tr>\n",
       "      <th>13</th>\n",
       "      <td>W9C7l46Me0iuzbio_0BhdQ</td>\n",
       "    </tr>\n",
       "    <tr>\n",
       "      <th>14</th>\n",
       "      <td>Vkj42md-5O3VoOD9pBg6Sw</td>\n",
       "    </tr>\n",
       "    <tr>\n",
       "      <th>15</th>\n",
       "      <td>X7j74c6mj6nzhVzRGTbr2A</td>\n",
       "    </tr>\n",
       "    <tr>\n",
       "      <th>16</th>\n",
       "      <td>9oh0fN4WUxyQWsPopG5jZQ</td>\n",
       "    </tr>\n",
       "    <tr>\n",
       "      <th>17</th>\n",
       "      <td>s2o_JsABvrZVm_T03qrBUw</td>\n",
       "    </tr>\n",
       "    <tr>\n",
       "      <th>18</th>\n",
       "      <td>renPzRDqMZpMaHiCD_e1_A</td>\n",
       "    </tr>\n",
       "    <tr>\n",
       "      <th>19</th>\n",
       "      <td>KxgMRo0kwM9R_DybftMnYg</td>\n",
       "    </tr>\n",
       "    <tr>\n",
       "      <th>20</th>\n",
       "      <td>hMZMbgpVOD0CscPHHxASqw</td>\n",
       "    </tr>\n",
       "    <tr>\n",
       "      <th>21</th>\n",
       "      <td>q8DpClBORerI6CGWIOOfAw</td>\n",
       "    </tr>\n",
       "    <tr>\n",
       "      <th>22</th>\n",
       "      <td>G3wbFkcfQo0JVTiTXoZXmA</td>\n",
       "    </tr>\n",
       "    <tr>\n",
       "      <th>23</th>\n",
       "      <td>PkF0hg5fNAHwxJrYrhUkBg</td>\n",
       "    </tr>\n",
       "    <tr>\n",
       "      <th>24</th>\n",
       "      <td>4uf0xL3_4giHT7gCuIkEGg</td>\n",
       "    </tr>\n",
       "    <tr>\n",
       "      <th>25</th>\n",
       "      <td>f5MMc2els9BANhYbDNyNoA</td>\n",
       "    </tr>\n",
       "    <tr>\n",
       "      <th>26</th>\n",
       "      <td>gWTOYTdpcm0xsgY6k57PGg</td>\n",
       "    </tr>\n",
       "    <tr>\n",
       "      <th>27</th>\n",
       "      <td>DeVGAiOf2mHVUDfxvuhVlQ</td>\n",
       "    </tr>\n",
       "    <tr>\n",
       "      <th>28</th>\n",
       "      <td>eFlC9AehaWPp3e1hPu8l-w</td>\n",
       "    </tr>\n",
       "    <tr>\n",
       "      <th>29</th>\n",
       "      <td>gvdFSI9b9IvLuqZeIili7g</td>\n",
       "    </tr>\n",
       "    <tr>\n",
       "      <th>...</th>\n",
       "      <td>...</td>\n",
       "    </tr>\n",
       "    <tr>\n",
       "      <th>1478</th>\n",
       "      <td>_ir8NHMtV7KPTwmBmlkmQw</td>\n",
       "    </tr>\n",
       "    <tr>\n",
       "      <th>1479</th>\n",
       "      <td>Yv7VHEZWLMmcBDvIlLh69w</td>\n",
       "    </tr>\n",
       "    <tr>\n",
       "      <th>1480</th>\n",
       "      <td>D14Cva_AOyyBab1hPXkALw</td>\n",
       "    </tr>\n",
       "    <tr>\n",
       "      <th>1481</th>\n",
       "      <td>dHFzOb-GzXdT5u3sUFKE_A</td>\n",
       "    </tr>\n",
       "    <tr>\n",
       "      <th>1482</th>\n",
       "      <td>byV70bKT87SHgN0uRtow6w</td>\n",
       "    </tr>\n",
       "    <tr>\n",
       "      <th>1483</th>\n",
       "      <td>Nhk0jTP2gkU12G4LHJVR3A</td>\n",
       "    </tr>\n",
       "    <tr>\n",
       "      <th>1484</th>\n",
       "      <td>VI0pu9BR7m6PCrAEhP542w</td>\n",
       "    </tr>\n",
       "    <tr>\n",
       "      <th>1485</th>\n",
       "      <td>ve9pfcy4DXuT9J6hqHUw3w</td>\n",
       "    </tr>\n",
       "    <tr>\n",
       "      <th>1486</th>\n",
       "      <td>pYNtTvmIa0nrkU_Kj7wAnQ</td>\n",
       "    </tr>\n",
       "    <tr>\n",
       "      <th>1487</th>\n",
       "      <td>oYjGQaDIs_meyWD8qVX6Kw</td>\n",
       "    </tr>\n",
       "    <tr>\n",
       "      <th>1488</th>\n",
       "      <td>D1AtPyXN1xYRHRwm71CV5A</td>\n",
       "    </tr>\n",
       "    <tr>\n",
       "      <th>1489</th>\n",
       "      <td>ERFbDSU0bg-dY6Pzgjl_Rg</td>\n",
       "    </tr>\n",
       "    <tr>\n",
       "      <th>1490</th>\n",
       "      <td>PP1K311ZKbpDgTjwic3u5Q</td>\n",
       "    </tr>\n",
       "    <tr>\n",
       "      <th>1491</th>\n",
       "      <td>VJfcMqV4ycHNT5s0cZxXmQ</td>\n",
       "    </tr>\n",
       "    <tr>\n",
       "      <th>1492</th>\n",
       "      <td>A36BF-rIbGExgnu1StJJiA</td>\n",
       "    </tr>\n",
       "    <tr>\n",
       "      <th>1493</th>\n",
       "      <td>rLG7dufpPvFtQiOF7EA7YA</td>\n",
       "    </tr>\n",
       "    <tr>\n",
       "      <th>1494</th>\n",
       "      <td>9FstNdXZxH8W2hie86-KNg</td>\n",
       "    </tr>\n",
       "    <tr>\n",
       "      <th>1495</th>\n",
       "      <td>XYZw8rWQ0wjMWQChRCU8Hg</td>\n",
       "    </tr>\n",
       "    <tr>\n",
       "      <th>1496</th>\n",
       "      <td>bvuxor346zDAen3poNl9qA</td>\n",
       "    </tr>\n",
       "    <tr>\n",
       "      <th>1497</th>\n",
       "      <td>MNC4xBMbc6gY4I9Ji96E_w</td>\n",
       "    </tr>\n",
       "    <tr>\n",
       "      <th>1498</th>\n",
       "      <td>etyGh4GyR-lzPuvjlHDkIw</td>\n",
       "    </tr>\n",
       "    <tr>\n",
       "      <th>1499</th>\n",
       "      <td>RfqZhUKaKKRf_wkqWm1JsA</td>\n",
       "    </tr>\n",
       "    <tr>\n",
       "      <th>1500</th>\n",
       "      <td>f3670JXvEcEbTvqBc1Igrw</td>\n",
       "    </tr>\n",
       "    <tr>\n",
       "      <th>1501</th>\n",
       "      <td>vH8aclcD2T8X-dvMG11Ipw</td>\n",
       "    </tr>\n",
       "    <tr>\n",
       "      <th>1502</th>\n",
       "      <td>1yBOf2Imo81xoiHA7I-M3Q</td>\n",
       "    </tr>\n",
       "    <tr>\n",
       "      <th>1503</th>\n",
       "      <td>N8XXNR8bGMFWF1G4FKVV2g</td>\n",
       "    </tr>\n",
       "    <tr>\n",
       "      <th>1504</th>\n",
       "      <td>SoTMjAyKKpTKAy6OHOhikg</td>\n",
       "    </tr>\n",
       "    <tr>\n",
       "      <th>1505</th>\n",
       "      <td>vIEPD4vzsuvq7BnCaix7yg</td>\n",
       "    </tr>\n",
       "    <tr>\n",
       "      <th>1506</th>\n",
       "      <td>wmacqgo9clInj4OeWr7ltg</td>\n",
       "    </tr>\n",
       "    <tr>\n",
       "      <th>1507</th>\n",
       "      <td>uW-mXsPCGdBXMJlNPUTMyQ</td>\n",
       "    </tr>\n",
       "  </tbody>\n",
       "</table>\n",
       "<p>1508 rows × 1 columns</p>\n",
       "</div>"
      ],
      "text/plain": [
       "                     User_ID\n",
       "0     9j2EDEvHL6m6vzITBUlvvA\n",
       "1     X2Cf71Ab7EM9Yz4qJnAfug\n",
       "2     QluW09sYdJb4NBKutSeh1Q\n",
       "3     xtZ5JHQARr2fF9yEhX_21g\n",
       "4     uaFOvyGPRvSETSS6Lk8-5A\n",
       "5     pa8zvcFxnj6jFtywlxKf_g\n",
       "6     LH5TWnLrS5-V3_ORAV2ImA\n",
       "7     ZJYqaNXVTayu8oFIGC9D5Q\n",
       "8     AQaDEFPvOpT9gYRb2MaR_g\n",
       "9     AXN85O1z1qSpuBGYsr3b0A\n",
       "10    Kr-nF7n17b2N3aFRcgKAJA\n",
       "11    NrpzAH3EoNhWUR8OysUhBQ\n",
       "12    kt12bkp6gUihKMiEFB2t7g\n",
       "13    W9C7l46Me0iuzbio_0BhdQ\n",
       "14    Vkj42md-5O3VoOD9pBg6Sw\n",
       "15    X7j74c6mj6nzhVzRGTbr2A\n",
       "16    9oh0fN4WUxyQWsPopG5jZQ\n",
       "17    s2o_JsABvrZVm_T03qrBUw\n",
       "18    renPzRDqMZpMaHiCD_e1_A\n",
       "19    KxgMRo0kwM9R_DybftMnYg\n",
       "20    hMZMbgpVOD0CscPHHxASqw\n",
       "21    q8DpClBORerI6CGWIOOfAw\n",
       "22    G3wbFkcfQo0JVTiTXoZXmA\n",
       "23    PkF0hg5fNAHwxJrYrhUkBg\n",
       "24    4uf0xL3_4giHT7gCuIkEGg\n",
       "25    f5MMc2els9BANhYbDNyNoA\n",
       "26    gWTOYTdpcm0xsgY6k57PGg\n",
       "27    DeVGAiOf2mHVUDfxvuhVlQ\n",
       "28    eFlC9AehaWPp3e1hPu8l-w\n",
       "29    gvdFSI9b9IvLuqZeIili7g\n",
       "...                      ...\n",
       "1478  _ir8NHMtV7KPTwmBmlkmQw\n",
       "1479  Yv7VHEZWLMmcBDvIlLh69w\n",
       "1480  D14Cva_AOyyBab1hPXkALw\n",
       "1481  dHFzOb-GzXdT5u3sUFKE_A\n",
       "1482  byV70bKT87SHgN0uRtow6w\n",
       "1483  Nhk0jTP2gkU12G4LHJVR3A\n",
       "1484  VI0pu9BR7m6PCrAEhP542w\n",
       "1485  ve9pfcy4DXuT9J6hqHUw3w\n",
       "1486  pYNtTvmIa0nrkU_Kj7wAnQ\n",
       "1487  oYjGQaDIs_meyWD8qVX6Kw\n",
       "1488  D1AtPyXN1xYRHRwm71CV5A\n",
       "1489  ERFbDSU0bg-dY6Pzgjl_Rg\n",
       "1490  PP1K311ZKbpDgTjwic3u5Q\n",
       "1491  VJfcMqV4ycHNT5s0cZxXmQ\n",
       "1492  A36BF-rIbGExgnu1StJJiA\n",
       "1493  rLG7dufpPvFtQiOF7EA7YA\n",
       "1494  9FstNdXZxH8W2hie86-KNg\n",
       "1495  XYZw8rWQ0wjMWQChRCU8Hg\n",
       "1496  bvuxor346zDAen3poNl9qA\n",
       "1497  MNC4xBMbc6gY4I9Ji96E_w\n",
       "1498  etyGh4GyR-lzPuvjlHDkIw\n",
       "1499  RfqZhUKaKKRf_wkqWm1JsA\n",
       "1500  f3670JXvEcEbTvqBc1Igrw\n",
       "1501  vH8aclcD2T8X-dvMG11Ipw\n",
       "1502  1yBOf2Imo81xoiHA7I-M3Q\n",
       "1503  N8XXNR8bGMFWF1G4FKVV2g\n",
       "1504  SoTMjAyKKpTKAy6OHOhikg\n",
       "1505  vIEPD4vzsuvq7BnCaix7yg\n",
       "1506  wmacqgo9clInj4OeWr7ltg\n",
       "1507  uW-mXsPCGdBXMJlNPUTMyQ\n",
       "\n",
       "[1508 rows x 1 columns]"
      ]
     },
     "execution_count": 276,
     "metadata": {},
     "output_type": "execute_result"
    }
   ],
   "source": [
    "UID"
   ]
  },
  {
   "cell_type": "code",
   "execution_count": 277,
   "metadata": {},
   "outputs": [
    {
     "data": {
      "text/plain": [
       "array([[-0.03423849, -0.03423849, -0.03423849, ..., -0.03423849,\n",
       "        -0.03423849, -0.03423849],\n",
       "       [-0.04919323, -0.04919323, -0.04919323, ..., -0.04919323,\n",
       "        -0.04919323, -0.04919323],\n",
       "       [-0.01338056, -0.01338056, -0.01338056, ..., -0.01338056,\n",
       "        -0.01338056, -0.01338056],\n",
       "       ...,\n",
       "       [-0.03896104, -0.03896104, -0.03896104, ..., -0.03896104,\n",
       "        -0.03896104, -0.03896104],\n",
       "       [-0.01338056, -0.01338056, -0.01338056, ..., -0.01338056,\n",
       "        -0.01338056, -0.01338056],\n",
       "       [-0.01810311, -0.01810311, -0.01810311, ..., -0.01810311,\n",
       "        -0.01810311, -0.01810311]])"
      ]
     },
     "execution_count": 277,
     "metadata": {},
     "output_type": "execute_result"
    }
   ],
   "source": [
    "B_vals = B.values\n",
    "ratings_mean = np.mean(B_vals, axis=1)\n",
    "B_norm = B_vals - ratings_mean.reshape(-1, 1)\n",
    "B_norm[:20]"
   ]
  },
  {
   "cell_type": "markdown",
   "metadata": {},
   "source": [
    "# Matrix Factorization With SVD"
   ]
  },
  {
   "cell_type": "code",
   "execution_count": 278,
   "metadata": {},
   "outputs": [],
   "source": [
    "from scipy.sparse.linalg import svds\n",
    "U, sigma, Vt = svds(B_norm, k = 50)"
   ]
  },
  {
   "cell_type": "code",
   "execution_count": 320,
   "metadata": {},
   "outputs": [],
   "source": [
    "def recommender_preds(A, k):\n",
    "    A_vals = A.values\n",
    "    ratings_mean = np.mean(A_vals, axis=1)\n",
    "    A_norm = A_vals - ratings_mean.reshape(-1, 1)\n",
    "    U, sigma, Vt = svds(A_norm, k = k)\n",
    "    sigma = np.diag(sigma)\n",
    "    predictions = np.dot(np.dot(U, sigma), Vt) + ratings_mean.reshape(-1, 1)\n",
    "    predictions_df = pd.DataFrame(predictions, columns = A.columns)\n",
    "    return sigma, predictions_df"
   ]
  },
  {
   "cell_type": "code",
   "execution_count": 321,
   "metadata": {},
   "outputs": [],
   "source": [
    "sigma, predictions_df = recommender_preds(B, 50)"
   ]
  },
  {
   "cell_type": "code",
   "execution_count": 322,
   "metadata": {},
   "outputs": [
    {
     "data": {
      "text/plain": [
       "(array([[30.37615158,  0.        ,  0.        , ...,  0.        ,\n",
       "          0.        ,  0.        ],\n",
       "        [ 0.        , 30.40894938,  0.        , ...,  0.        ,\n",
       "          0.        ,  0.        ],\n",
       "        [ 0.        ,  0.        , 30.59705129, ...,  0.        ,\n",
       "          0.        ,  0.        ],\n",
       "        ...,\n",
       "        [ 0.        ,  0.        ,  0.        , ..., 42.37823552,\n",
       "          0.        ,  0.        ],\n",
       "        [ 0.        ,  0.        ,  0.        , ...,  0.        ,\n",
       "         47.31045124,  0.        ],\n",
       "        [ 0.        ,  0.        ,  0.        , ...,  0.        ,\n",
       "          0.        , 56.11920173]]), (50, 50))"
      ]
     },
     "execution_count": 322,
     "metadata": {},
     "output_type": "execute_result"
    }
   ],
   "source": [
    "sigma, sigma.shape"
   ]
  },
  {
   "cell_type": "code",
   "execution_count": 323,
   "metadata": {
    "scrolled": true
   },
   "outputs": [
    {
     "data": {
      "text/html": [
       "<div>\n",
       "<style scoped>\n",
       "    .dataframe tbody tr th:only-of-type {\n",
       "        vertical-align: middle;\n",
       "    }\n",
       "\n",
       "    .dataframe tbody tr th {\n",
       "        vertical-align: top;\n",
       "    }\n",
       "\n",
       "    .dataframe thead th {\n",
       "        text-align: right;\n",
       "    }\n",
       "</style>\n",
       "<table border=\"1\" class=\"dataframe\">\n",
       "  <thead>\n",
       "    <tr style=\"text-align: right;\">\n",
       "      <th></th>\n",
       "      <th>100 Sails Restaurant &amp; Bar</th>\n",
       "      <th>10e</th>\n",
       "      <th>16 A Handcrafted Experience</th>\n",
       "      <th>168 Market</th>\n",
       "      <th>4ur Nails &amp; Spa</th>\n",
       "      <th>595 Craft And Kitchen</th>\n",
       "      <th>7 Leaves Cafe</th>\n",
       "      <th>7-Eleven</th>\n",
       "      <th>702 Nail Lounge</th>\n",
       "      <th>777 Towing</th>\n",
       "      <th>...</th>\n",
       "      <th>Zero Degrees</th>\n",
       "      <th>Zest - Bistro &amp; Bar</th>\n",
       "      <th>Zion Canyon Brewpub</th>\n",
       "      <th>Zion National Park</th>\n",
       "      <th>bin 702</th>\n",
       "      <th>ssooniestyle</th>\n",
       "      <th>uBreakiFix Summerlin</th>\n",
       "      <th>what’s Crepe</th>\n",
       "      <th>zuma</th>\n",
       "      <th>é by José Andrés</th>\n",
       "    </tr>\n",
       "  </thead>\n",
       "  <tbody>\n",
       "    <tr>\n",
       "      <th>0</th>\n",
       "      <td>0.033631</td>\n",
       "      <td>0.027246</td>\n",
       "      <td>0.046246</td>\n",
       "      <td>0.048525</td>\n",
       "      <td>0.038238</td>\n",
       "      <td>0.045162</td>\n",
       "      <td>-0.078810</td>\n",
       "      <td>-0.024603</td>\n",
       "      <td>0.039990</td>\n",
       "      <td>0.036469</td>\n",
       "      <td>...</td>\n",
       "      <td>0.034634</td>\n",
       "      <td>0.199557</td>\n",
       "      <td>0.051155</td>\n",
       "      <td>0.043602</td>\n",
       "      <td>0.026830</td>\n",
       "      <td>0.055561</td>\n",
       "      <td>0.061538</td>\n",
       "      <td>0.017996</td>\n",
       "      <td>-0.139447</td>\n",
       "      <td>0.011995</td>\n",
       "    </tr>\n",
       "    <tr>\n",
       "      <th>1</th>\n",
       "      <td>0.000837</td>\n",
       "      <td>-0.037690</td>\n",
       "      <td>0.067168</td>\n",
       "      <td>-0.036930</td>\n",
       "      <td>0.047474</td>\n",
       "      <td>0.058762</td>\n",
       "      <td>-0.381835</td>\n",
       "      <td>-0.182540</td>\n",
       "      <td>0.101034</td>\n",
       "      <td>-0.003425</td>\n",
       "      <td>...</td>\n",
       "      <td>0.157523</td>\n",
       "      <td>0.420378</td>\n",
       "      <td>-0.021162</td>\n",
       "      <td>0.097478</td>\n",
       "      <td>-0.024293</td>\n",
       "      <td>0.049386</td>\n",
       "      <td>-0.100822</td>\n",
       "      <td>-0.070572</td>\n",
       "      <td>0.037218</td>\n",
       "      <td>-0.021835</td>\n",
       "    </tr>\n",
       "    <tr>\n",
       "      <th>2</th>\n",
       "      <td>0.000202</td>\n",
       "      <td>-0.004596</td>\n",
       "      <td>-0.009867</td>\n",
       "      <td>0.009757</td>\n",
       "      <td>-0.027041</td>\n",
       "      <td>-0.025636</td>\n",
       "      <td>-0.069340</td>\n",
       "      <td>0.019538</td>\n",
       "      <td>0.021049</td>\n",
       "      <td>-0.013472</td>\n",
       "      <td>...</td>\n",
       "      <td>-0.019358</td>\n",
       "      <td>-0.036709</td>\n",
       "      <td>-0.021479</td>\n",
       "      <td>-0.019928</td>\n",
       "      <td>-0.049892</td>\n",
       "      <td>-0.032679</td>\n",
       "      <td>-0.030494</td>\n",
       "      <td>0.043319</td>\n",
       "      <td>0.035417</td>\n",
       "      <td>-0.014740</td>\n",
       "    </tr>\n",
       "    <tr>\n",
       "      <th>3</th>\n",
       "      <td>-0.000351</td>\n",
       "      <td>0.004521</td>\n",
       "      <td>-0.008957</td>\n",
       "      <td>0.027085</td>\n",
       "      <td>0.005978</td>\n",
       "      <td>-0.028247</td>\n",
       "      <td>-0.033224</td>\n",
       "      <td>0.035170</td>\n",
       "      <td>0.001485</td>\n",
       "      <td>0.004324</td>\n",
       "      <td>...</td>\n",
       "      <td>0.007673</td>\n",
       "      <td>0.007410</td>\n",
       "      <td>0.005220</td>\n",
       "      <td>-0.005931</td>\n",
       "      <td>0.008880</td>\n",
       "      <td>-0.002428</td>\n",
       "      <td>-0.002167</td>\n",
       "      <td>0.044579</td>\n",
       "      <td>0.032046</td>\n",
       "      <td>-0.000786</td>\n",
       "    </tr>\n",
       "    <tr>\n",
       "      <th>4</th>\n",
       "      <td>0.024176</td>\n",
       "      <td>-0.008589</td>\n",
       "      <td>0.053265</td>\n",
       "      <td>0.010459</td>\n",
       "      <td>-0.005673</td>\n",
       "      <td>-0.042172</td>\n",
       "      <td>-0.030244</td>\n",
       "      <td>-0.016981</td>\n",
       "      <td>-0.004384</td>\n",
       "      <td>-0.010093</td>\n",
       "      <td>...</td>\n",
       "      <td>0.011139</td>\n",
       "      <td>-0.059035</td>\n",
       "      <td>-0.000763</td>\n",
       "      <td>-0.008274</td>\n",
       "      <td>0.012502</td>\n",
       "      <td>0.002469</td>\n",
       "      <td>-0.013268</td>\n",
       "      <td>0.121863</td>\n",
       "      <td>-0.057847</td>\n",
       "      <td>-0.017959</td>\n",
       "    </tr>\n",
       "  </tbody>\n",
       "</table>\n",
       "<p>5 rows × 2541 columns</p>\n",
       "</div>"
      ],
      "text/plain": [
       "   100 Sails Restaurant & Bar       10e  16 A Handcrafted Experience  \\\n",
       "0                    0.033631  0.027246                     0.046246   \n",
       "1                    0.000837 -0.037690                     0.067168   \n",
       "2                    0.000202 -0.004596                    -0.009867   \n",
       "3                   -0.000351  0.004521                    -0.008957   \n",
       "4                    0.024176 -0.008589                     0.053265   \n",
       "\n",
       "   168 Market  4ur Nails & Spa  595 Craft And Kitchen  7 Leaves Cafe  \\\n",
       "0    0.048525         0.038238               0.045162      -0.078810   \n",
       "1   -0.036930         0.047474               0.058762      -0.381835   \n",
       "2    0.009757        -0.027041              -0.025636      -0.069340   \n",
       "3    0.027085         0.005978              -0.028247      -0.033224   \n",
       "4    0.010459        -0.005673              -0.042172      -0.030244   \n",
       "\n",
       "   7-Eleven  702 Nail Lounge  777 Towing        ...         Zero Degrees  \\\n",
       "0 -0.024603         0.039990    0.036469        ...             0.034634   \n",
       "1 -0.182540         0.101034   -0.003425        ...             0.157523   \n",
       "2  0.019538         0.021049   -0.013472        ...            -0.019358   \n",
       "3  0.035170         0.001485    0.004324        ...             0.007673   \n",
       "4 -0.016981        -0.004384   -0.010093        ...             0.011139   \n",
       "\n",
       "   Zest - Bistro & Bar  Zion Canyon Brewpub  Zion National Park   bin 702  \\\n",
       "0             0.199557             0.051155            0.043602  0.026830   \n",
       "1             0.420378            -0.021162            0.097478 -0.024293   \n",
       "2            -0.036709            -0.021479           -0.019928 -0.049892   \n",
       "3             0.007410             0.005220           -0.005931  0.008880   \n",
       "4            -0.059035            -0.000763           -0.008274  0.012502   \n",
       "\n",
       "   ssooniestyle  uBreakiFix Summerlin  what’s Crepe      zuma  \\\n",
       "0      0.055561              0.061538      0.017996 -0.139447   \n",
       "1      0.049386             -0.100822     -0.070572  0.037218   \n",
       "2     -0.032679             -0.030494      0.043319  0.035417   \n",
       "3     -0.002428             -0.002167      0.044579  0.032046   \n",
       "4      0.002469             -0.013268      0.121863 -0.057847   \n",
       "\n",
       "   é by José Andrés  \n",
       "0          0.011995  \n",
       "1         -0.021835  \n",
       "2         -0.014740  \n",
       "3         -0.000786  \n",
       "4         -0.017959  \n",
       "\n",
       "[5 rows x 2541 columns]"
      ]
     },
     "execution_count": 323,
     "metadata": {},
     "output_type": "execute_result"
    }
   ],
   "source": [
    "predictions_df.head()"
   ]
  },
  {
   "cell_type": "code",
   "execution_count": 324,
   "metadata": {},
   "outputs": [
    {
     "data": {
      "text/plain": [
       "'X2Cf71Ab7EM9Yz4qJnAfug'"
      ]
     },
     "execution_count": 324,
     "metadata": {},
     "output_type": "execute_result"
    }
   ],
   "source": [
    "user_row_id = UID.iloc[1].values[0]\n",
    "user_row_id"
   ]
  },
  {
   "cell_type": "code",
   "execution_count": 325,
   "metadata": {},
   "outputs": [],
   "source": [
    "test = pd.DataFrame(X.loc['X2Cf71Ab7EM9Yz4qJnAfug'])\n",
    "test = test.merge(pd.DataFrame(predictions_df.iloc[0]), on=test.index)\n"
   ]
  },
  {
   "cell_type": "code",
   "execution_count": 326,
   "metadata": {},
   "outputs": [
    {
     "data": {
      "text/html": [
       "<div>\n",
       "<style scoped>\n",
       "    .dataframe tbody tr th:only-of-type {\n",
       "        vertical-align: middle;\n",
       "    }\n",
       "\n",
       "    .dataframe tbody tr th {\n",
       "        vertical-align: top;\n",
       "    }\n",
       "\n",
       "    .dataframe thead th {\n",
       "        text-align: right;\n",
       "    }\n",
       "</style>\n",
       "<table border=\"1\" class=\"dataframe\">\n",
       "  <thead>\n",
       "    <tr style=\"text-align: right;\">\n",
       "      <th></th>\n",
       "      <th>key_0</th>\n",
       "      <th>X2Cf71Ab7EM9Yz4qJnAfug</th>\n",
       "      <th>0</th>\n",
       "    </tr>\n",
       "  </thead>\n",
       "  <tbody>\n",
       "    <tr>\n",
       "      <th>0</th>\n",
       "      <td>100 Sails Restaurant &amp; Bar</td>\n",
       "      <td>NaN</td>\n",
       "      <td>0.033631</td>\n",
       "    </tr>\n",
       "    <tr>\n",
       "      <th>1</th>\n",
       "      <td>10e</td>\n",
       "      <td>NaN</td>\n",
       "      <td>0.027246</td>\n",
       "    </tr>\n",
       "    <tr>\n",
       "      <th>2</th>\n",
       "      <td>16 A Handcrafted Experience</td>\n",
       "      <td>NaN</td>\n",
       "      <td>0.046246</td>\n",
       "    </tr>\n",
       "    <tr>\n",
       "      <th>3</th>\n",
       "      <td>168 Market</td>\n",
       "      <td>NaN</td>\n",
       "      <td>0.048525</td>\n",
       "    </tr>\n",
       "    <tr>\n",
       "      <th>4</th>\n",
       "      <td>4ur Nails &amp; Spa</td>\n",
       "      <td>NaN</td>\n",
       "      <td>0.038238</td>\n",
       "    </tr>\n",
       "  </tbody>\n",
       "</table>\n",
       "</div>"
      ],
      "text/plain": [
       "                         key_0  X2Cf71Ab7EM9Yz4qJnAfug         0\n",
       "0   100 Sails Restaurant & Bar                     NaN  0.033631\n",
       "1                          10e                     NaN  0.027246\n",
       "2  16 A Handcrafted Experience                     NaN  0.046246\n",
       "3                   168 Market                     NaN  0.048525\n",
       "4              4ur Nails & Spa                     NaN  0.038238"
      ]
     },
     "execution_count": 326,
     "metadata": {},
     "output_type": "execute_result"
    }
   ],
   "source": [
    "test.head()"
   ]
  },
  {
   "cell_type": "code",
   "execution_count": 327,
   "metadata": {},
   "outputs": [],
   "source": [
    "# Recommending top restaurant not yet rated by user\n",
    "def recommender(predictions_df, user, original_ratings_df, num_recommendations=5):\n",
    "\n",
    "    # Get  the user's predictions\n",
    "    user_row_id = UID.iloc[user -1].values[0]\n",
    "\n",
    "    # Get the original user data and merge in the movie information\n",
    "    user_data = pd.DataFrame(original_ratings_df.loc[user_row_id])\n",
    "    user_data = user_data.merge(pd.DataFrame(predictions_df.iloc[user - 1]), on=user_data.index)\n",
    "\n",
    "    # Recommend the highest predicted rating movies that the user hasn't seen yet.\n",
    "    recommendations = user_data[user_data[user_row_id].isnull() == True].sort_values(by=user_data.columns[-1], ascending =False)[:num_recommendations]\n",
    "    rated = user_data[user_data[user_row_id].isnull() == False].sort_values(by=user_row_id, ascending =False)\n",
    "    recommendations = recommendations.rename(columns={\"key_0\": \"Locations\", \n",
    "                                                      f\"{user_row_id}\" : \"User Rating\", \n",
    "                                                      recommendations.columns[-1] : \"Recommendation\"})\n",
    "    rated = rated.rename(columns ={\"key_0\": \"Locations\", \n",
    "                                                      f\"{user_row_id}\" : \"User Rating\", \n",
    "                                                      recommendations.columns[-1] : \"Recommendation\"})\n",
    "    # Print user information\n",
    "    print ('User {0} has already rated {1} places.'.format(user_row_id, rated.shape[0]))\n",
    "    print ('Recommending highest {0} predicted ratings locations not already rated.'.format(num_recommendations))\n",
    "\n",
    "    return rated, recommendations"
   ]
  },
  {
   "cell_type": "code",
   "execution_count": 343,
   "metadata": {},
   "outputs": [
    {
     "name": "stdout",
     "output_type": "stream",
     "text": [
      "User 9j2EDEvHL6m6vzITBUlvvA has already rated 20 places.\n",
      "Recommending highest 5 predicted ratings locations not already rated.\n"
     ]
    }
   ],
   "source": [
    "rated, recommendations = recommender(predictions_df, 1, X)"
   ]
  },
  {
   "cell_type": "code",
   "execution_count": 344,
   "metadata": {},
   "outputs": [
    {
     "name": "stdout",
     "output_type": "stream",
     "text": [
      "                                  Locations  User Rating         0\n",
      "193                           Big Ern’s BBQ          5.0  0.132122\n",
      "1357                            Mom’s Diner          5.0  0.165800\n",
      "2181                        The Great Greek          5.0  0.645043\n",
      "2030                        Sweet Addiction          5.0  0.179131\n",
      "1772                        Ronald’s Donuts          5.0  0.244845\n",
      "1741                          Rice n Noodle          5.0  0.209090\n",
      "1591                          Phat Phrank’s          5.0  0.195134\n",
      "1563                        Park on Fremont          5.0  0.378265\n",
      "377               Casa Don Juan  - Downtown          5.0  0.217256\n",
      "1364         Montana Meat Company - Durango          5.0  0.276946\n",
      "1343                     Mint Indian Bistro          5.0  0.222975\n",
      "1336                              Milkywave          5.0  0.235832\n",
      "1111  La Belle Terre French Bakery And Café          5.0  0.092960\n",
      "1064                           Kids Kingdom          5.0  0.180396\n",
      "506                      Crêpe Expectations          5.0  0.302743\n",
      "2435                Water Wings Swim School          5.0  0.121447\n",
      "1004                     Japanese Curry Zen          4.0  0.371014\n",
      "1962                              Starbucks          1.0  0.871987\n",
      "625                    Einstein Bros Bagels          1.0  0.090068\n",
      "2219             The Orleans Hotel & Casino          1.0  0.016760 \n",
      "\n",
      "                              Locations  User Rating  Recommendation\n",
      "1316                       Metro Diner          NaN        0.756392\n",
      "1044  Juan’s Flaming Fajitas & Cantina          NaN        0.698332\n",
      "209            Blaze Fast-Fire’d Pizza          NaN        0.678323\n",
      "854               Gäbi Coffee & Bakery          NaN        0.674504\n",
      "897                        Herbs & Rye          NaN        0.620074\n"
     ]
    }
   ],
   "source": [
    "print(rated, \"\\n\\n\", recommendations)"
   ]
  },
  {
   "cell_type": "markdown",
   "metadata": {},
   "source": [
    "# Using a different K value"
   ]
  },
  {
   "cell_type": "code",
   "execution_count": 336,
   "metadata": {},
   "outputs": [],
   "source": [
    "sigma2, preds2 = recommender_preds(B, 100)"
   ]
  },
  {
   "cell_type": "code",
   "execution_count": 353,
   "metadata": {},
   "outputs": [
    {
     "name": "stdout",
     "output_type": "stream",
     "text": [
      "User q8DpClBORerI6CGWIOOfAw has already rated 10 places.\n",
      "Recommending highest 5 predicted ratings locations not already rated.\n"
     ]
    }
   ],
   "source": [
    "rated, recommendations = recommender(preds2, 22, X)"
   ]
  },
  {
   "cell_type": "code",
   "execution_count": 354,
   "metadata": {},
   "outputs": [
    {
     "name": "stdout",
     "output_type": "stream",
     "text": [
      "                                    Locations  User Rating        21\n",
      "641      Ellis Island Hotel, Casino & Brewery          5.0  0.223703\n",
      "1043                           Joël  Robuchon          5.0  0.265342\n",
      "2394               Vic & Anthony’s Steakhouse          5.0  1.746757\n",
      "163                                  Bay Poke          4.0  0.190619\n",
      "560                              Din Tai Fung          4.0  1.698017\n",
      "1026  Joe Vicari’s Andiamo Italian Steakhouse          4.0  0.706244\n",
      "1211                   Lou Malnati’s Pizzeria          4.0  0.166423\n",
      "1598                         Pho Lantern Cafe          4.0  0.177451\n",
      "2162                       The D Casino Hotel          4.0  0.208982\n",
      "1586                                    Perch          3.0  0.086713 \n",
      "\n",
      "                       Locations  User Rating  Recommendation\n",
      "169              Beauty & Essex          NaN        0.543711\n",
      "808   Gordon Ramsay Pub & Grill          NaN        0.538382\n",
      "1607          Pieology Pizzeria          NaN        0.490244\n",
      "857          HEXX kitchen + bar          NaN        0.490012\n",
      "999                       Jaleo          NaN        0.471669\n"
     ]
    }
   ],
   "source": [
    "print(rated, \"\\n\\n\", recommendations)"
   ]
  },
  {
   "cell_type": "code",
   "execution_count": null,
   "metadata": {},
   "outputs": [],
   "source": []
  }
 ],
 "metadata": {
  "celltoolbar": "Raw Cell Format",
  "kernelspec": {
   "display_name": "learn-env",
   "language": "python",
   "name": "learn-env"
  },
  "language_info": {
   "codemirror_mode": {
    "name": "ipython",
    "version": 3
   },
   "file_extension": ".py",
   "mimetype": "text/x-python",
   "name": "python",
   "nbconvert_exporter": "python",
   "pygments_lexer": "ipython3",
   "version": "3.6.6"
  }
 },
 "nbformat": 4,
 "nbformat_minor": 2
}
